{
 "cells": [
  {
   "cell_type": "markdown",
   "id": "4e600e06-db49-429e-8b3f-a5ebae8c18d9",
   "metadata": {},
   "source": [
    "#### Final Project Submission\n",
    "##### GROUP 4:\n",
    "\n",
    "Student name: Margaret Thiga,\n",
    "              Pete Njagi,\n",
    "              Jeremy Ngugi,\n",
    "              Esther Omulokoli,\n",
    "              James Koli,\n",
    "              Edgar Kiprono\n",
    "\n",
    "Student pace: DS-full time-Online\n",
    "\n",
    "Scheduled project review date/time: 1/2/2024\n",
    "\n",
    "Instructor name:\n",
    "\n",
    "Blog post URL:"
   ]
  },
  {
   "cell_type": "code",
   "execution_count": null,
   "id": "4f5010d0-19fc-4f28-a75e-9854241f8cd5",
   "metadata": {},
   "outputs": [],
   "source": [
    "# importing the relevant libraries\n",
    "import pandas as pd\n",
    "import numpy as np\n",
    "import math\n",
    "import matplotlib.pyplot as plt\n",
    "%matplotlib inline\n",
    "import seaborn as sns\n",
    "import scipy.stats as stats\n",
    "import statsmodels\n",
    "from statsmodels.formula.api import ols\n",
    "import statsmodels.api as sm\n",
    "from sklearn.linear_model import LinearRegression\n",
    "from sklearn.metrics import mean_absolute_error, mean_squared_error\n",
    "from sklearn.preprocessing import OrdinalEncoder\n",
    "from sklearn.preprocessing import OneHotEncoder\n",
    "import statsmodels.api as sm\n",
    "from sklearn.preprocessing import StandardScaler\n",
    "import warnings\n",
    "from matplotlib.lines import Line2D\n",
    "warnings.filterwarnings('ignore')"
   ]
  },
  {
   "cell_type": "code",
   "execution_count": null,
   "id": "bde6e363",
   "metadata": {},
   "outputs": [],
   "source": [
    "ds = pd.read_csv(\"ds_salaries.csv\",index_col=0)\n",
    "ds"
   ]
  },
  {
   "cell_type": "code",
   "execution_count": null,
   "id": "6f59d17c-017e-4739-8879-d2f9c69fc268",
   "metadata": {},
   "outputs": [],
   "source": [
    "ds.shape"
   ]
  },
  {
   "cell_type": "code",
   "execution_count": null,
   "id": "c35014da-7156-469c-b1d7-7fbac5105f72",
   "metadata": {},
   "outputs": [],
   "source": [
    "ds.isnull().sum()  "
   ]
  },
  {
   "cell_type": "code",
   "execution_count": null,
   "id": "4ed1d9a0-d8ad-4f8e-81e5-def35fd48b15",
   "metadata": {},
   "outputs": [],
   "source": [
    "#check for data type\n",
    "ds.info() "
   ]
  },
  {
   "cell_type": "code",
   "execution_count": null,
   "id": "95ba921a-5488-40e4-b515-a2939b8fa3e4",
   "metadata": {},
   "outputs": [],
   "source": [
    "#check for different values in the columns and count of unique\n",
    "print(f\"experience-level: {ds['experience_level'].unique()},\\\n",
    "Unique levels: {ds['experience_level'].nunique()}\")\n",
    "\n",
    "print(f\"Job type: {ds['employment_type'].unique()},\\\n",
    "Unique job types: {ds['employment_type'].nunique()}\")\n",
    "\n",
    "\n",
    "print(f\"Salary Currency: {ds['salary_currency'].unique()},\\\n",
    "Unique currencies: {ds['salary_currency'].nunique()}\")\n",
    "\n",
    "\n",
    "print(f\"Country of residence: {ds['employee_residence'].unique()},\\\n",
    "Unique countries: {ds['employee_residence'].nunique()}\")"
   ]
  },
  {
   "cell_type": "code",
   "execution_count": null,
   "id": "96c98d14-ad90-412b-a96c-ddaf46da31bf",
   "metadata": {},
   "outputs": [],
   "source": [
    "a = ds.describe().astype(int) \n",
    "a"
   ]
  },
  {
   "cell_type": "code",
   "execution_count": null,
   "id": "e66dacf9-cda1-4bf2-8d0c-4e160d57e770",
   "metadata": {},
   "outputs": [],
   "source": [
    "plt.style.use('ggplot')\n",
    "fig,ax=plt.subplots(figsize=(10,6))\n",
    "a['salary_in_usd'].plot.hist(ax = ax, edgecolor='red',color='red')\n",
    "ax.set_title('Salary distribution')\n",
    "ax.set_xlabel(\"Salary\")\n",
    "plt.show();"
   ]
  },
  {
   "cell_type": "code",
   "execution_count": null,
   "id": "629b2562-84c7-430d-acd6-be3a80c2aec9",
   "metadata": {},
   "outputs": [],
   "source": [
    "#salary_currency\n",
    "ds.salary_currency.value_counts().plot.bar();"
   ]
  },
  {
   "cell_type": "code",
   "execution_count": null,
   "id": "80393e01-32bd-4d4a-b3e4-6f08f26eebfb",
   "metadata": {},
   "outputs": [],
   "source": [
    "sns.distplot(ds.salary_in_usd);"
   ]
  },
  {
   "cell_type": "code",
   "execution_count": null,
   "id": "30a55a1f-3966-4143-9b72-7f6eb1ccff93",
   "metadata": {},
   "outputs": [],
   "source": [
    "unique_job_titles_df = ds['job_title'].value_counts().reset_index()\n",
    "unique_job_titles_df.columns = ['Job_Title', 'Count']\n",
    "unique_job_titles_df.head(11)"
   ]
  },
  {
   "cell_type": "code",
   "execution_count": null,
   "id": "e52fa749-fda6-4a88-9f09-ad0156ba8510",
   "metadata": {},
   "outputs": [],
   "source": [
    "ds_linear = ds[['job_title','salary_in_usd']]\n",
    "ds_l_sorted = ds_linear.sort_values(by='salary_in_usd', ascending=False).reset_index()\n",
    "\n",
    "# Display the sorted DataFrame\n",
    "ds_l_sorted"
   ]
  },
  {
   "cell_type": "code",
   "execution_count": null,
   "id": "ddf5db3e-c684-4d07-80f9-be8496768a9e",
   "metadata": {},
   "outputs": [],
   "source": [
    "fig, ax = plt.subplots(figsize=(10,8))\n",
    "sns.boxplot(data=ds, y = \"salary_in_usd\", ax=ax)\n",
    "ax.set_title('salary')"
   ]
  },
  {
   "cell_type": "code",
   "execution_count": null,
   "id": "2c5447d2-1081-4c9d-b3fd-35102c47656a",
   "metadata": {},
   "outputs": [],
   "source": [
    "salary= ds['salary_in_usd'].describe()\n",
    "salary"
   ]
  },
  {
   "cell_type": "code",
   "execution_count": null,
   "id": "233a57ca-5510-4fb4-b127-cc67b85181ee",
   "metadata": {},
   "outputs": [],
   "source": [
    "plt.figure(figsize=(15,8))\n",
    "sns.heatmap(a.drop('remote_ratio',axis=1).corr(), annot=True, cmap = 'YlGnBu');\n",
    "plt.show()"
   ]
  },
  {
   "cell_type": "code",
   "execution_count": null,
   "id": "e3e7dd38-b720-4057-8040-024ffc7f9cfb",
   "metadata": {},
   "outputs": [],
   "source": [
    "# Define independent variables (X) and dependent variable (y)\n",
    "X = ds[['salary_in_usd']] \n",
    "y = ds['salary']\n",
    "\n",
    "# Add a constant term to the independent variables\n",
    "X = sm.add_constant(X)\n",
    "\n",
    "# Fit the linear regression model\n",
    "model = sm.OLS(y, X).fit()\n",
    "\n",
    "# Display the model summary\n",
    "print(model.summary())"
   ]
  },
  {
   "cell_type": "markdown",
   "id": "58501c6d",
   "metadata": {},
   "source": [
    "employment type analysis"
   ]
  },
  {
   "cell_type": "code",
   "execution_count": null,
   "id": "64c4fe29-8b72-4ef6-8e84-ad9428044f19",
   "metadata": {},
   "outputs": [],
   "source": [
    "# value canout\n",
    "employment_type_counts = ds['employment_type'].value_counts()\n",
    "employment_type_counts"
   ]
  },
  {
   "cell_type": "code",
   "execution_count": null,
   "id": "15a6670a",
   "metadata": {},
   "outputs": [],
   "source": [
    "employment_type_summary = ds.groupby('employment_type')['salary_in_usd'].describe()\n",
    "employment_type_summary"
   ]
  },
  {
   "cell_type": "code",
   "execution_count": null,
   "id": "78b6866c",
   "metadata": {},
   "outputs": [],
   "source": [
    "# avarage salary of employees with diffrent employment types (eg: CT,FT AND PT)\n",
    "average_salary_by_employment_type = ds.groupby('employment_type')['salary_in_usd'].mean()\n",
    "average_salary_by_employment_type"
   ]
  },
  {
   "cell_type": "code",
   "execution_count": null,
   "id": "c1a0b4c9",
   "metadata": {},
   "outputs": [],
   "source": [
    "highest_salary_by_employment_type = ds.groupby('employment_type')['salary_in_usd'].max()\n",
    "highest_salary_by_employment_type"
   ]
  },
  {
   "cell_type": "code",
   "execution_count": null,
   "id": "4f479a98",
   "metadata": {},
   "outputs": [],
   "source": [
    "lowest_salary_by_employment_type = ds.groupby('employment_type')['salary_in_usd'].min()\n",
    "lowest_salary_by_employment_type"
   ]
  },
  {
   "cell_type": "markdown",
   "id": "8ccb060c",
   "metadata": {},
   "source": [
    "histogram: histograms to visualize the distribution of salaries within each employment type"
   ]
  },
  {
   "cell_type": "code",
   "execution_count": null,
   "id": "241bd7cc",
   "metadata": {},
   "outputs": [],
   "source": [
    "full_time_data = ds[ds['employment_type'] == 'FT']['salary_in_usd']\n",
    "contract_data = ds[ds['employment_type'] == 'CT']['salary_in_usd']\n",
    "part_time_data = ds[ds['employment_type'] == 'PT']['salary_in_usd']\n",
    "free_lancer_data =ds[ds['employment_type'] == 'FL']['salary_in_usd']\n",
    "\n",
    "fig, axes = plt.subplots(nrows=3, ncols=1, figsize=(10, 12), sharex=True, sharey=True)\n",
    "\n",
    "sns.histplot(full_time_data, bins=20, kde=True, color='blue', ax=axes[0])\n",
    "axes[0].set_title('Full-Time Employees')\n",
    "\n",
    "sns.histplot(contract_data, bins=20, kde=True, color='green', ax=axes[1])\n",
    "axes[1].set_title('Contract Employees')\n",
    "\n",
    "sns.histplot(part_time_data, bins=20, kde=True, color='orange', ax=axes[2])\n",
    "axes[2].set_title('Part-Time Employees')\n",
    "\n",
    "plt.xlabel('Salary in USD')\n",
    "plt.ylabel('Frequency')\n",
    "plt.suptitle('Distribution of Salaries by Employment Type')\n",
    "\n",
    "plt.show()"
   ]
  },
  {
   "cell_type": "markdown",
   "id": "112faea9",
   "metadata": {},
   "source": [
    "box plot of salary distributio by employment type"
   ]
  },
  {
   "cell_type": "code",
   "execution_count": null,
   "id": "3674b510",
   "metadata": {},
   "outputs": [],
   "source": [
    "# plotting a distribution chart by employment type\n",
    "plt.figure(figsize=(10, 6))\n",
    "sns.boxplot(x='employment_type', y='salary_in_usd', data=ds)\n",
    "plt.title('Salary Distribution by Employment Type')\n",
    "plt.show()\n"
   ]
  },
  {
   "cell_type": "markdown",
   "id": "fd72ba0a",
   "metadata": {},
   "source": [
    "bar chat of avg salary distribution y employment type"
   ]
  },
  {
   "cell_type": "code",
   "execution_count": null,
   "id": "59835513",
   "metadata": {},
   "outputs": [],
   "source": [
    "# bar graph on average salary by distribution\n",
    "plt.figure(figsize=(10, 6))\n",
    "sns.barplot(x='employment_type', y='salary_in_usd', data=ds, estimator=lambda x: sum(x) / len(x))\n",
    "plt.title('Average Salary by Employment Type')\n",
    "plt.show()"
   ]
  },
  {
   "cell_type": "code",
   "execution_count": null,
   "id": "8c082f1a",
   "metadata": {},
   "outputs": [],
   "source": [
    "#pie chat for avg salary distribution\n",
    "grouped_data = ds.groupby('employment_type')['salary_in_usd'].mean()\n",
    "plt.figure(figsize=(10, 10))\n",
    "colors = ['skyblue', 'lightgreen', 'lightcoral', 'lightyellow']\n",
    "\n",
    "plt.pie(grouped_data, labels=grouped_data.index, autopct='%1.1f%%', startangle=90, colors=colors)\n",
    "plt.title('Distribution of Salaries by Employment Type')\n",
    "\n",
    "plt.show()\n"
   ]
  },
  {
   "cell_type": "markdown",
   "id": "7721d598",
   "metadata": {},
   "source": [
    "T test on employment type\n",
    "\n",
    "Null Hypothesis (H0): There is no significant difference in salary expectations between full-time and part-time employees.\n",
    "\n",
    "Alternative Hypothesis (H1): There is a significant difference in salary expectations between full-time and part-time employees."
   ]
  },
  {
   "cell_type": "code",
   "execution_count": null,
   "id": "0410b080",
   "metadata": {},
   "outputs": [],
   "source": [
    "#T test\n",
    "from scipy.stats import ttest_ind\n",
    "p_value= 0.05\n",
    "full_time_salary = ds[ds['employment_type'] == 'FT']['salary_in_usd']\n",
    "part_time_salary = ds[ds['employment_type'] == 'PT']['salary_in_usd']\n",
    "\n",
    "t_statistic, p_value = ttest_ind(full_time_salary, part_time_salary)\n",
    "\n",
    "print(f\"T-Test Results - p-value: {p_value:.4f}\")\n",
    "\n",
    "if p_value < 0.05:\n",
    "    print(\"Reject the null hypothesis. There is a significant difference in salary expectations.\")\n",
    "else:\n",
    "    print(\"Fail to reject the null hypothesis. There is no significant difference in salary expectations.\")\n",
    "\n"
   ]
  },
  {
   "cell_type": "code",
   "execution_count": null,
   "id": "7c72fdb3",
   "metadata": {},
   "outputs": [],
   "source": [
    "p_value= 0.05\n",
    "full_time_salary = ds[ds['employment_type'] == 'FT']['salary_in_usd']\n",
    "part_time_salary = ds[ds['employment_type'] == 'FL']['salary_in_usd']\n",
    "\n",
    "t_statistic, p_value = ttest_ind(full_time_salary, part_time_salary)\n",
    "\n",
    "print(f\"T-Test Results - p-value: {p_value:.4f}\")\n",
    "\n",
    "if p_value < 0.05:\n",
    "    print(\"Reject the null hypothesis. There is a significant difference in salary expectations.\")\n",
    "else:\n",
    "    print(\"Fail to reject the null hypothesis. There is no significant difference in salary expectations.\")"
   ]
  },
  {
   "cell_type": "code",
   "execution_count": null,
   "id": "842f072a",
   "metadata": {},
   "outputs": [],
   "source": [
    "p_value= 0.05\n",
    "full_time_salary = ds[ds['employment_type'] == 'FT']['salary_in_usd']\n",
    "part_time_salary = ds[ds['employment_type'] == 'CT']['salary_in_usd']\n",
    "\n",
    "t_statistic, p_value = ttest_ind(full_time_salary, part_time_salary)\n",
    "\n",
    "print(f\"T-Test Results - p-value: {p_value:.4f}\")\n",
    "\n",
    "if p_value < 0.05:\n",
    "    print(\"Reject the null hypothesis. There is a significant difference in salary expectations.\")\n",
    "else:\n",
    "    print(\"Fail to reject the null hypothesis. There is no significant difference in salary expectations.\")"
   ]
  },
  {
   "cell_type": "markdown",
   "id": "0ba59fe8",
   "metadata": {},
   "source": [
    "ANOVA TEST"
   ]
  },
  {
   "cell_type": "code",
   "execution_count": null,
   "id": "7e232dd7",
   "metadata": {},
   "outputs": [],
   "source": [
    "from scipy.stats import f_oneway\n",
    "p_value=0.05\n",
    "full_time_salary = ds[ds['employment_type'] == 'FT']['salary_in_usd']\n",
    "other_employment_type_salary = ds[ds['employment_type'].isin(['CT', 'PT','FL'])]['salary_in_usd']\n",
    "f_statistic, p_value = f_oneway(full_time_salary, other_employment_type_salary)\n",
    "\n",
    "f_statistic, p_value = f_oneway(full_time_salary, other_employment_type_salary)\n",
    "\n",
    "print(f\"ANOVA Results - p-value: {p_value:.4f}\")\n",
    "\n",
    "if p_value < 0.05:\n",
    "    print(\"Reject the null hypothesis. There is a significant difference in salary expectations between Full-Time and other employment types.\")\n",
    "else:\n",
    "    print(\"Fail to reject the null hypothesis. There is no significant difference in salary expectations between Full-Time and other employment types.\")\n"
   ]
  },
  {
   "cell_type": "markdown",
   "id": "ff9c6539",
   "metadata": {},
   "source": [
    "cohens d calculation: to determine the effect size"
   ]
  },
  {
   "cell_type": "code",
   "execution_count": null,
   "id": "0c18b7b0",
   "metadata": {},
   "outputs": [],
   "source": [
    "mean_full_time = np.mean(full_time_salary)\n",
    "mean_part_time = np.mean(part_time_salary)\n",
    "std_pooled = np.sqrt((np.var(full_time_salary, ddof=1) + np.var(part_time_salary, ddof=1)) / 2)\n",
    "\n",
    "cohen_d = (mean_full_time - mean_part_time) / std_pooled\n",
    "print(f\"Cohen's d: {cohen_d:.4f}\")"
   ]
  },
  {
   "cell_type": "markdown",
   "id": "80b9c27c",
   "metadata": {},
   "source": [
    "simple linear regression analysis"
   ]
  },
  {
   "cell_type": "code",
   "execution_count": null,
   "id": "5e1da6f2",
   "metadata": {},
   "outputs": [],
   "source": [
    "ds['is_full_time'] = (ds['employment_type'] == 'FT').astype(int)\n",
    "X = sm.add_constant(ds['is_full_time'])\n",
    "y = ds['salary_in_usd']\n",
    "model = sm.OLS(y, X).fit()\n",
    "print(model.summary())"
   ]
  }
 ],
 "metadata": {
  "kernelspec": {
   "display_name": "learn-env",
   "language": "python",
   "name": "python3"
  },
  "language_info": {
   "codemirror_mode": {
    "name": "ipython",
    "version": 3
   },
   "file_extension": ".py",
   "mimetype": "text/x-python",
   "name": "python",
   "nbconvert_exporter": "python",
   "pygments_lexer": "ipython3",
   "version": "3.10.13"
  }
 },
 "nbformat": 4,
 "nbformat_minor": 5
}
