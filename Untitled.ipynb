{
 "cells": [
  {
   "cell_type": "markdown",
   "id": "4e600e06-db49-429e-8b3f-a5ebae8c18d9",
   "metadata": {},
   "source": [
    "# Data Science Moringa Group Project - A Data Science Job Anlysis Project\n",
    "# Final Project Submission\n",
    "##### GROUP 4:\n",
    "\n",
    "Student name: Margaret Thiga,\n",
    "              Pete Njagi,\n",
    "              Jeremy Ngugi,\n",
    "              Esther Omulokoli,\n",
    "              James Koli,\n",
    "              Edgar Kiprono\n",
    "\n",
    "Student pace: DS-full time-Online\n",
    "\n",
    "Scheduled project review date/time: 1/2/2024\n",
    "\n",
    "## Introduction\n",
    "KenyaData Insights, a cutting-edge data firm in Kenya, is about to debut with a unique focus on learning about the wage expectations of people aspiring to venture into the world of Data Science. From upper management to lower-level employees, every tier of the organisational structure will be covered by our investigation. Acknowledging the critical role that pay considerations play in determining job satisfaction, our startup is committed to thoroughly investigating the effects of these expectations on employee satisfaction and engagement. KenyaData Insights makes it a priority to develop a predictive model to analyse and forecast salaries for data science job positions based on factors such as job titles, experience level, company size, and other relevant variables. The goal is to provide actionable insights and guidance to our stakeholders, enabling them to make informed decisions about job opportunities and negotiate competitive salaries.\n",
    "\n",
    "\n",
    "![title](Top-Data-Science-Jobs.png)"
   ]
  },
  {
   "cell_type": "markdown",
   "metadata": {},
   "source": [
    "## Business Understanding"
   ]
  },
  {
   "cell_type": "markdown",
   "metadata": {},
   "source": [
    "The goal of the study is to better understand the complex relationships that exist within the data and machine learning business. Specifically, the study will look at how job features, compensation structures, and the dynamics of remote work interact with one another."
   ]
  },
  {
   "cell_type": "code",
   "execution_count": 2,
   "id": "4f5010d0-19fc-4f28-a75e-9854241f8cd5",
   "metadata": {},
   "outputs": [],
   "source": [
    "# importing the relevant libraries\n",
    "import pandas as pd\n",
    "import numpy as np\n",
    "import math\n",
    "import matplotlib.pyplot as plt\n",
    "%matplotlib inline\n",
    "import seaborn as sns\n",
    "import scipy.stats as stats\n",
    "import statsmodels\n",
    "from statsmodels.formula.api import ols\n",
    "import statsmodels.api as sm\n",
    "from sklearn.linear_model import LinearRegression\n",
    "from sklearn.metrics import mean_absolute_error, mean_squared_error\n",
    "from sklearn.preprocessing import OrdinalEncoder\n",
    "from sklearn.preprocessing import OneHotEncoder\n",
    "import statsmodels.api as sm\n",
    "from sklearn.preprocessing import StandardScaler\n",
    "import warnings\n",
    "from matplotlib.lines import Line2D\n",
    "warnings.filterwarnings('ignore') "
   ]
  },
  {
   "cell_type": "code",
   "execution_count": 169,
   "id": "bde6e363",
   "metadata": {},
   "outputs": [
    {
     "data": {
      "text/html": [
       "<div>\n",
       "<style scoped>\n",
       "    .dataframe tbody tr th:only-of-type {\n",
       "        vertical-align: middle;\n",
       "    }\n",
       "\n",
       "    .dataframe tbody tr th {\n",
       "        vertical-align: top;\n",
       "    }\n",
       "\n",
       "    .dataframe thead th {\n",
       "        text-align: right;\n",
       "    }\n",
       "</style>\n",
       "<table border=\"1\" class=\"dataframe\">\n",
       "  <thead>\n",
       "    <tr style=\"text-align: right;\">\n",
       "      <th></th>\n",
       "      <th>work_year</th>\n",
       "      <th>experience_level</th>\n",
       "      <th>employment_type</th>\n",
       "      <th>job_title</th>\n",
       "      <th>salary</th>\n",
       "      <th>salary_currency</th>\n",
       "      <th>salary_in_usd</th>\n",
       "      <th>employee_residence</th>\n",
       "      <th>remote_ratio</th>\n",
       "      <th>company_location</th>\n",
       "      <th>company_size</th>\n",
       "    </tr>\n",
       "  </thead>\n",
       "  <tbody>\n",
       "    <tr>\n",
       "      <th>0</th>\n",
       "      <td>2020</td>\n",
       "      <td>MI</td>\n",
       "      <td>FT</td>\n",
       "      <td>Data Scientist</td>\n",
       "      <td>70000</td>\n",
       "      <td>EUR</td>\n",
       "      <td>79833</td>\n",
       "      <td>DE</td>\n",
       "      <td>0</td>\n",
       "      <td>DE</td>\n",
       "      <td>L</td>\n",
       "    </tr>\n",
       "    <tr>\n",
       "      <th>1</th>\n",
       "      <td>2020</td>\n",
       "      <td>SE</td>\n",
       "      <td>FT</td>\n",
       "      <td>Machine Learning Scientist</td>\n",
       "      <td>260000</td>\n",
       "      <td>USD</td>\n",
       "      <td>260000</td>\n",
       "      <td>JP</td>\n",
       "      <td>0</td>\n",
       "      <td>JP</td>\n",
       "      <td>S</td>\n",
       "    </tr>\n",
       "    <tr>\n",
       "      <th>2</th>\n",
       "      <td>2020</td>\n",
       "      <td>SE</td>\n",
       "      <td>FT</td>\n",
       "      <td>Big Data Engineer</td>\n",
       "      <td>85000</td>\n",
       "      <td>GBP</td>\n",
       "      <td>109024</td>\n",
       "      <td>GB</td>\n",
       "      <td>50</td>\n",
       "      <td>GB</td>\n",
       "      <td>M</td>\n",
       "    </tr>\n",
       "    <tr>\n",
       "      <th>3</th>\n",
       "      <td>2020</td>\n",
       "      <td>MI</td>\n",
       "      <td>FT</td>\n",
       "      <td>Product Data Analyst</td>\n",
       "      <td>20000</td>\n",
       "      <td>USD</td>\n",
       "      <td>20000</td>\n",
       "      <td>HN</td>\n",
       "      <td>0</td>\n",
       "      <td>HN</td>\n",
       "      <td>S</td>\n",
       "    </tr>\n",
       "    <tr>\n",
       "      <th>4</th>\n",
       "      <td>2020</td>\n",
       "      <td>SE</td>\n",
       "      <td>FT</td>\n",
       "      <td>Machine Learning Engineer</td>\n",
       "      <td>150000</td>\n",
       "      <td>USD</td>\n",
       "      <td>150000</td>\n",
       "      <td>US</td>\n",
       "      <td>50</td>\n",
       "      <td>US</td>\n",
       "      <td>L</td>\n",
       "    </tr>\n",
       "  </tbody>\n",
       "</table>\n",
       "</div>"
      ],
      "text/plain": [
       "   work_year experience_level employment_type                   job_title  \\\n",
       "0       2020               MI              FT              Data Scientist   \n",
       "1       2020               SE              FT  Machine Learning Scientist   \n",
       "2       2020               SE              FT           Big Data Engineer   \n",
       "3       2020               MI              FT        Product Data Analyst   \n",
       "4       2020               SE              FT   Machine Learning Engineer   \n",
       "\n",
       "   salary salary_currency  salary_in_usd employee_residence  remote_ratio  \\\n",
       "0   70000             EUR          79833                 DE             0   \n",
       "1  260000             USD         260000                 JP             0   \n",
       "2   85000             GBP         109024                 GB            50   \n",
       "3   20000             USD          20000                 HN             0   \n",
       "4  150000             USD         150000                 US            50   \n",
       "\n",
       "  company_location company_size  \n",
       "0               DE            L  \n",
       "1               JP            S  \n",
       "2               GB            M  \n",
       "3               HN            S  \n",
       "4               US            L  "
      ]
     },
     "execution_count": 169,
     "metadata": {},
     "output_type": "execute_result"
    }
   ],
   "source": [
    "ds = pd.read_csv(\"ds_salaries.csv\",index_col=0)\n",
    "ds.head()"
   ]
  },
  {
   "cell_type": "markdown",
   "id": "a9113b31",
   "metadata": {},
   "source": [
    "#### Data Understanding"
   ]
  },
  {
   "cell_type": "code",
   "execution_count": 170,
   "id": "a589c8db",
   "metadata": {},
   "outputs": [
    {
     "data": {
      "text/plain": [
       "(607, 11)"
      ]
     },
     "execution_count": 170,
     "metadata": {},
     "output_type": "execute_result"
    }
   ],
   "source": [
    "ds.shape"
   ]
  },
  {
   "cell_type": "code",
   "execution_count": 171,
   "id": "15d7234d",
   "metadata": {},
   "outputs": [
    {
     "data": {
      "text/plain": [
       "work_year             0\n",
       "experience_level      0\n",
       "employment_type       0\n",
       "job_title             0\n",
       "salary                0\n",
       "salary_currency       0\n",
       "salary_in_usd         0\n",
       "employee_residence    0\n",
       "remote_ratio          0\n",
       "company_location      0\n",
       "company_size          0\n",
       "dtype: int64"
      ]
     },
     "execution_count": 171,
     "metadata": {},
     "output_type": "execute_result"
    }
   ],
   "source": [
    "ds.isnull().sum()  "
   ]
  },
  {
   "cell_type": "code",
   "execution_count": 172,
   "id": "a03717a2",
   "metadata": {},
   "outputs": [
    {
     "name": "stdout",
     "output_type": "stream",
     "text": [
      "<class 'pandas.core.frame.DataFrame'>\n",
      "Int64Index: 607 entries, 0 to 606\n",
      "Data columns (total 11 columns):\n",
      " #   Column              Non-Null Count  Dtype \n",
      "---  ------              --------------  ----- \n",
      " 0   work_year           607 non-null    int64 \n",
      " 1   experience_level    607 non-null    object\n",
      " 2   employment_type     607 non-null    object\n",
      " 3   job_title           607 non-null    object\n",
      " 4   salary              607 non-null    int64 \n",
      " 5   salary_currency     607 non-null    object\n",
      " 6   salary_in_usd       607 non-null    int64 \n",
      " 7   employee_residence  607 non-null    object\n",
      " 8   remote_ratio        607 non-null    int64 \n",
      " 9   company_location    607 non-null    object\n",
      " 10  company_size        607 non-null    object\n",
      "dtypes: int64(4), object(7)\n",
      "memory usage: 56.9+ KB\n"
     ]
    }
   ],
   "source": [
    "ds.info() "
   ]
  },
  {
   "cell_type": "code",
   "execution_count": 173,
   "id": "de3c5ed2",
   "metadata": {},
   "outputs": [
    {
     "name": "stdout",
     "output_type": "stream",
     "text": [
      "experience-level: ['MI' 'SE' 'EN' 'EX'],Unique levels: 4\n",
      "Job type: ['FT' 'CT' 'PT' 'FL'],Unique job types: 4\n",
      "Salary Currency: ['EUR' 'USD' 'GBP' 'HUF' 'INR' 'JPY' 'CNY' 'MXN' 'CAD' 'DKK' 'PLN' 'SGD'\n",
      " 'CLP' 'BRL' 'TRY' 'AUD' 'CHF'],Unique currencies: 17\n",
      "Country of residence: ['DE' 'JP' 'GB' 'HN' 'US' 'HU' 'NZ' 'FR' 'IN' 'PK' 'PL' 'PT' 'CN' 'GR'\n",
      " 'AE' 'NL' 'MX' 'CA' 'AT' 'NG' 'PH' 'ES' 'DK' 'RU' 'IT' 'HR' 'BG' 'SG'\n",
      " 'BR' 'IQ' 'VN' 'BE' 'UA' 'MT' 'CL' 'RO' 'IR' 'CO' 'MD' 'KE' 'SI' 'HK'\n",
      " 'TR' 'RS' 'PR' 'LU' 'JE' 'CZ' 'AR' 'DZ' 'TN' 'MY' 'EE' 'AU' 'BO' 'IE'\n",
      " 'CH'],Unique countries: 57\n"
     ]
    }
   ],
   "source": [
    "#check for different unique values in the columns and count of unique\n",
    "print(f\"experience-level: {ds['experience_level'].unique()},\\\n",
    "Unique levels: {ds['experience_level'].nunique()}\")\n",
    "\n",
    "print(f\"Job type: {ds['employment_type'].unique()},\\\n",
    "Unique job types: {ds['employment_type'].nunique()}\")\n",
    "\n",
    "\n",
    "print(f\"Salary Currency: {ds['salary_currency'].unique()},\\\n",
    "Unique currencies: {ds['salary_currency'].nunique()}\")\n",
    "\n",
    "\n",
    "print(f\"Country of residence: {ds['employee_residence'].unique()},\\\n",
    "Unique countries: {ds['employee_residence'].nunique()}\")"
   ]
  },
  {
   "cell_type": "code",
   "execution_count": 174,
   "id": "082f2549",
   "metadata": {},
   "outputs": [
    {
     "data": {
      "text/html": [
       "<div>\n",
       "<style scoped>\n",
       "    .dataframe tbody tr th:only-of-type {\n",
       "        vertical-align: middle;\n",
       "    }\n",
       "\n",
       "    .dataframe tbody tr th {\n",
       "        vertical-align: top;\n",
       "    }\n",
       "\n",
       "    .dataframe thead th {\n",
       "        text-align: right;\n",
       "    }\n",
       "</style>\n",
       "<table border=\"1\" class=\"dataframe\">\n",
       "  <thead>\n",
       "    <tr style=\"text-align: right;\">\n",
       "      <th></th>\n",
       "      <th>work_year</th>\n",
       "      <th>experience_level</th>\n",
       "      <th>employment_type</th>\n",
       "      <th>job_title</th>\n",
       "      <th>salary</th>\n",
       "      <th>salary_currency</th>\n",
       "      <th>salary_in_usd</th>\n",
       "      <th>employee_residence</th>\n",
       "      <th>remote_ratio</th>\n",
       "      <th>company_location</th>\n",
       "      <th>company_size</th>\n",
       "    </tr>\n",
       "  </thead>\n",
       "  <tbody>\n",
       "    <tr>\n",
       "      <th>0</th>\n",
       "      <td>2020</td>\n",
       "      <td>Mid Level</td>\n",
       "      <td>Full Time</td>\n",
       "      <td>Data Scientist</td>\n",
       "      <td>70000</td>\n",
       "      <td>EUR</td>\n",
       "      <td>79833</td>\n",
       "      <td>DE</td>\n",
       "      <td>Non Remote Work</td>\n",
       "      <td>DE</td>\n",
       "      <td>Large</td>\n",
       "    </tr>\n",
       "    <tr>\n",
       "      <th>1</th>\n",
       "      <td>2020</td>\n",
       "      <td>Senior Level</td>\n",
       "      <td>Full Time</td>\n",
       "      <td>Machine Learning Scientist</td>\n",
       "      <td>260000</td>\n",
       "      <td>USD</td>\n",
       "      <td>260000</td>\n",
       "      <td>JP</td>\n",
       "      <td>Non Remote Work</td>\n",
       "      <td>JP</td>\n",
       "      <td>Small</td>\n",
       "    </tr>\n",
       "    <tr>\n",
       "      <th>2</th>\n",
       "      <td>2020</td>\n",
       "      <td>Senior Level</td>\n",
       "      <td>Full Time</td>\n",
       "      <td>Big Data Engineer</td>\n",
       "      <td>85000</td>\n",
       "      <td>GBP</td>\n",
       "      <td>109024</td>\n",
       "      <td>GB</td>\n",
       "      <td>Partially Remote</td>\n",
       "      <td>GB</td>\n",
       "      <td>Medium</td>\n",
       "    </tr>\n",
       "    <tr>\n",
       "      <th>3</th>\n",
       "      <td>2020</td>\n",
       "      <td>Mid Level</td>\n",
       "      <td>Full Time</td>\n",
       "      <td>Product Data Analyst</td>\n",
       "      <td>20000</td>\n",
       "      <td>USD</td>\n",
       "      <td>20000</td>\n",
       "      <td>HN</td>\n",
       "      <td>Non Remote Work</td>\n",
       "      <td>HN</td>\n",
       "      <td>Small</td>\n",
       "    </tr>\n",
       "    <tr>\n",
       "      <th>4</th>\n",
       "      <td>2020</td>\n",
       "      <td>Senior Level</td>\n",
       "      <td>Full Time</td>\n",
       "      <td>Machine Learning Engineer</td>\n",
       "      <td>150000</td>\n",
       "      <td>USD</td>\n",
       "      <td>150000</td>\n",
       "      <td>US</td>\n",
       "      <td>Partially Remote</td>\n",
       "      <td>US</td>\n",
       "      <td>Large</td>\n",
       "    </tr>\n",
       "  </tbody>\n",
       "</table>\n",
       "</div>"
      ],
      "text/plain": [
       "   work_year experience_level employment_type                   job_title  \\\n",
       "0       2020        Mid Level       Full Time              Data Scientist   \n",
       "1       2020     Senior Level       Full Time  Machine Learning Scientist   \n",
       "2       2020     Senior Level       Full Time           Big Data Engineer   \n",
       "3       2020        Mid Level       Full Time        Product Data Analyst   \n",
       "4       2020     Senior Level       Full Time   Machine Learning Engineer   \n",
       "\n",
       "   salary salary_currency  salary_in_usd employee_residence      remote_ratio  \\\n",
       "0   70000             EUR          79833                 DE   Non Remote Work   \n",
       "1  260000             USD         260000                 JP   Non Remote Work   \n",
       "2   85000             GBP         109024                 GB  Partially Remote   \n",
       "3   20000             USD          20000                 HN   Non Remote Work   \n",
       "4  150000             USD         150000                 US  Partially Remote   \n",
       "\n",
       "  company_location company_size  \n",
       "0               DE        Large  \n",
       "1               JP        Small  \n",
       "2               GB       Medium  \n",
       "3               HN        Small  \n",
       "4               US        Large  "
      ]
     },
     "execution_count": 174,
     "metadata": {},
     "output_type": "execute_result"
    }
   ],
   "source": [
    "ds[\"experience_level\"].replace({\"EN\":\"Entry Level\",\"MI\":\"Mid Level\",\"EX\":\"Expert Level\",\"SE\":\"Senior Level\"},inplace=True)\n",
    "ds[\"employment_type\"].replace({\"PT\":\"Part Time\",\"FT\":\"Full Time\",\"CT\":\"Contractual\",\"FL\":\"Freelance\"},inplace=True)\n",
    "ds[\"company_size\"].replace({\"M\":\"Medium\",\"L\":\"Large\",\"S\":\"Small\"},inplace=True)\n",
    "ds[\"remote_ratio\"].replace({100:\"Fully Remote\",0:\"Non Remote Work\",50:\"Partially Remote\"},inplace=True)\n",
    "ds.head()\n"
   ]
  },
  {
   "cell_type": "code",
   "execution_count": 175,
   "id": "b9d930a4",
   "metadata": {},
   "outputs": [
    {
     "data": {
      "text/html": [
       "<div>\n",
       "<style scoped>\n",
       "    .dataframe tbody tr th:only-of-type {\n",
       "        vertical-align: middle;\n",
       "    }\n",
       "\n",
       "    .dataframe tbody tr th {\n",
       "        vertical-align: top;\n",
       "    }\n",
       "\n",
       "    .dataframe thead th {\n",
       "        text-align: right;\n",
       "    }\n",
       "</style>\n",
       "<table border=\"1\" class=\"dataframe\">\n",
       "  <thead>\n",
       "    <tr style=\"text-align: right;\">\n",
       "      <th></th>\n",
       "      <th>experience_level</th>\n",
       "      <th>employment_type</th>\n",
       "      <th>job_title</th>\n",
       "      <th>salary_currency</th>\n",
       "      <th>employee_residence</th>\n",
       "      <th>remote_ratio</th>\n",
       "      <th>company_location</th>\n",
       "      <th>company_size</th>\n",
       "    </tr>\n",
       "  </thead>\n",
       "  <tbody>\n",
       "    <tr>\n",
       "      <th>count</th>\n",
       "      <td>607</td>\n",
       "      <td>607</td>\n",
       "      <td>607</td>\n",
       "      <td>607</td>\n",
       "      <td>607</td>\n",
       "      <td>607</td>\n",
       "      <td>607</td>\n",
       "      <td>607</td>\n",
       "    </tr>\n",
       "    <tr>\n",
       "      <th>unique</th>\n",
       "      <td>4</td>\n",
       "      <td>4</td>\n",
       "      <td>50</td>\n",
       "      <td>17</td>\n",
       "      <td>57</td>\n",
       "      <td>3</td>\n",
       "      <td>50</td>\n",
       "      <td>3</td>\n",
       "    </tr>\n",
       "    <tr>\n",
       "      <th>top</th>\n",
       "      <td>Senior Level</td>\n",
       "      <td>Full Time</td>\n",
       "      <td>Data Scientist</td>\n",
       "      <td>USD</td>\n",
       "      <td>US</td>\n",
       "      <td>Fully Remote</td>\n",
       "      <td>US</td>\n",
       "      <td>Medium</td>\n",
       "    </tr>\n",
       "    <tr>\n",
       "      <th>freq</th>\n",
       "      <td>280</td>\n",
       "      <td>588</td>\n",
       "      <td>143</td>\n",
       "      <td>398</td>\n",
       "      <td>332</td>\n",
       "      <td>381</td>\n",
       "      <td>355</td>\n",
       "      <td>326</td>\n",
       "    </tr>\n",
       "  </tbody>\n",
       "</table>\n",
       "</div>"
      ],
      "text/plain": [
       "       experience_level employment_type       job_title salary_currency  \\\n",
       "count               607             607             607             607   \n",
       "unique                4               4              50              17   \n",
       "top        Senior Level       Full Time  Data Scientist             USD   \n",
       "freq                280             588             143             398   \n",
       "\n",
       "       employee_residence  remote_ratio company_location company_size  \n",
       "count                 607           607              607          607  \n",
       "unique                 57             3               50            3  \n",
       "top                    US  Fully Remote               US       Medium  \n",
       "freq                  332           381              355          326  "
      ]
     },
     "execution_count": 175,
     "metadata": {},
     "output_type": "execute_result"
    }
   ],
   "source": [
    "ds.describe(include=object)"
   ]
  },
  {
   "cell_type": "code",
   "execution_count": 176,
   "id": "ad7cbd75",
   "metadata": {},
   "outputs": [
    {
     "data": {
      "text/html": [
       "<div>\n",
       "<style scoped>\n",
       "    .dataframe tbody tr th:only-of-type {\n",
       "        vertical-align: middle;\n",
       "    }\n",
       "\n",
       "    .dataframe tbody tr th {\n",
       "        vertical-align: top;\n",
       "    }\n",
       "\n",
       "    .dataframe thead th {\n",
       "        text-align: right;\n",
       "    }\n",
       "</style>\n",
       "<table border=\"1\" class=\"dataframe\">\n",
       "  <thead>\n",
       "    <tr style=\"text-align: right;\">\n",
       "      <th></th>\n",
       "      <th>Job_Title</th>\n",
       "      <th>Count</th>\n",
       "    </tr>\n",
       "  </thead>\n",
       "  <tbody>\n",
       "    <tr>\n",
       "      <th>0</th>\n",
       "      <td>Data Scientist</td>\n",
       "      <td>143</td>\n",
       "    </tr>\n",
       "    <tr>\n",
       "      <th>1</th>\n",
       "      <td>Data Engineer</td>\n",
       "      <td>132</td>\n",
       "    </tr>\n",
       "    <tr>\n",
       "      <th>2</th>\n",
       "      <td>Data Analyst</td>\n",
       "      <td>97</td>\n",
       "    </tr>\n",
       "    <tr>\n",
       "      <th>3</th>\n",
       "      <td>Machine Learning Engineer</td>\n",
       "      <td>41</td>\n",
       "    </tr>\n",
       "    <tr>\n",
       "      <th>4</th>\n",
       "      <td>Research Scientist</td>\n",
       "      <td>16</td>\n",
       "    </tr>\n",
       "    <tr>\n",
       "      <th>5</th>\n",
       "      <td>Data Science Manager</td>\n",
       "      <td>12</td>\n",
       "    </tr>\n",
       "    <tr>\n",
       "      <th>6</th>\n",
       "      <td>Data Architect</td>\n",
       "      <td>11</td>\n",
       "    </tr>\n",
       "    <tr>\n",
       "      <th>7</th>\n",
       "      <td>Machine Learning Scientist</td>\n",
       "      <td>8</td>\n",
       "    </tr>\n",
       "    <tr>\n",
       "      <th>8</th>\n",
       "      <td>Big Data Engineer</td>\n",
       "      <td>8</td>\n",
       "    </tr>\n",
       "    <tr>\n",
       "      <th>9</th>\n",
       "      <td>Principal Data Scientist</td>\n",
       "      <td>7</td>\n",
       "    </tr>\n",
       "    <tr>\n",
       "      <th>10</th>\n",
       "      <td>AI Scientist</td>\n",
       "      <td>7</td>\n",
       "    </tr>\n",
       "  </tbody>\n",
       "</table>\n",
       "</div>"
      ],
      "text/plain": [
       "                     Job_Title  Count\n",
       "0               Data Scientist    143\n",
       "1                Data Engineer    132\n",
       "2                 Data Analyst     97\n",
       "3    Machine Learning Engineer     41\n",
       "4           Research Scientist     16\n",
       "5         Data Science Manager     12\n",
       "6               Data Architect     11\n",
       "7   Machine Learning Scientist      8\n",
       "8            Big Data Engineer      8\n",
       "9     Principal Data Scientist      7\n",
       "10                AI Scientist      7"
      ]
     },
     "execution_count": 176,
     "metadata": {},
     "output_type": "execute_result"
    }
   ],
   "source": [
    "job_titles = ds['job_title'].value_counts().reset_index()\n",
    "job_titles.columns = ['Job_Title', 'Count']\n",
    "job_titles.head(11)"
   ]
  },
  {
   "cell_type": "code",
   "execution_count": 177,
   "id": "c6269d88",
   "metadata": {},
   "outputs": [
    {
     "data": {
      "text/html": [
       "<div>\n",
       "<style scoped>\n",
       "    .dataframe tbody tr th:only-of-type {\n",
       "        vertical-align: middle;\n",
       "    }\n",
       "\n",
       "    .dataframe tbody tr th {\n",
       "        vertical-align: top;\n",
       "    }\n",
       "\n",
       "    .dataframe thead th {\n",
       "        text-align: right;\n",
       "    }\n",
       "</style>\n",
       "<table border=\"1\" class=\"dataframe\">\n",
       "  <thead>\n",
       "    <tr style=\"text-align: right;\">\n",
       "      <th></th>\n",
       "      <th>work_year</th>\n",
       "      <th>salary</th>\n",
       "      <th>salary_in_usd</th>\n",
       "    </tr>\n",
       "  </thead>\n",
       "  <tbody>\n",
       "    <tr>\n",
       "      <th>count</th>\n",
       "      <td>607</td>\n",
       "      <td>607</td>\n",
       "      <td>607</td>\n",
       "    </tr>\n",
       "    <tr>\n",
       "      <th>mean</th>\n",
       "      <td>2021</td>\n",
       "      <td>324000</td>\n",
       "      <td>112297</td>\n",
       "    </tr>\n",
       "    <tr>\n",
       "      <th>std</th>\n",
       "      <td>0</td>\n",
       "      <td>1544357</td>\n",
       "      <td>70957</td>\n",
       "    </tr>\n",
       "    <tr>\n",
       "      <th>min</th>\n",
       "      <td>2020</td>\n",
       "      <td>4000</td>\n",
       "      <td>2859</td>\n",
       "    </tr>\n",
       "    <tr>\n",
       "      <th>25%</th>\n",
       "      <td>2021</td>\n",
       "      <td>70000</td>\n",
       "      <td>62726</td>\n",
       "    </tr>\n",
       "    <tr>\n",
       "      <th>50%</th>\n",
       "      <td>2022</td>\n",
       "      <td>115000</td>\n",
       "      <td>101570</td>\n",
       "    </tr>\n",
       "    <tr>\n",
       "      <th>75%</th>\n",
       "      <td>2022</td>\n",
       "      <td>165000</td>\n",
       "      <td>150000</td>\n",
       "    </tr>\n",
       "    <tr>\n",
       "      <th>max</th>\n",
       "      <td>2022</td>\n",
       "      <td>30400000</td>\n",
       "      <td>600000</td>\n",
       "    </tr>\n",
       "  </tbody>\n",
       "</table>\n",
       "</div>"
      ],
      "text/plain": [
       "       work_year    salary  salary_in_usd\n",
       "count        607       607            607\n",
       "mean        2021    324000         112297\n",
       "std            0   1544357          70957\n",
       "min         2020      4000           2859\n",
       "25%         2021     70000          62726\n",
       "50%         2022    115000         101570\n",
       "75%         2022    165000         150000\n",
       "max         2022  30400000         600000"
      ]
     },
     "execution_count": 177,
     "metadata": {},
     "output_type": "execute_result"
    }
   ],
   "source": [
    "a = ds.describe().astype(int) \n",
    "a"
   ]
  },
  {
   "cell_type": "code",
   "execution_count": 178,
   "id": "dfd84acc",
   "metadata": {},
   "outputs": [
    {
     "data": {
      "text/html": [
       "<div>\n",
       "<style scoped>\n",
       "    .dataframe tbody tr th:only-of-type {\n",
       "        vertical-align: middle;\n",
       "    }\n",
       "\n",
       "    .dataframe tbody tr th {\n",
       "        vertical-align: top;\n",
       "    }\n",
       "\n",
       "    .dataframe thead th {\n",
       "        text-align: right;\n",
       "    }\n",
       "</style>\n",
       "<table border=\"1\" class=\"dataframe\">\n",
       "  <thead>\n",
       "    <tr style=\"text-align: right;\">\n",
       "      <th></th>\n",
       "      <th>index</th>\n",
       "      <th>job_title</th>\n",
       "      <th>salary_in_usd</th>\n",
       "    </tr>\n",
       "  </thead>\n",
       "  <tbody>\n",
       "    <tr>\n",
       "      <th>0</th>\n",
       "      <td>252</td>\n",
       "      <td>Principal Data Engineer</td>\n",
       "      <td>600000</td>\n",
       "    </tr>\n",
       "    <tr>\n",
       "      <th>1</th>\n",
       "      <td>97</td>\n",
       "      <td>Financial Data Analyst</td>\n",
       "      <td>450000</td>\n",
       "    </tr>\n",
       "    <tr>\n",
       "      <th>2</th>\n",
       "      <td>33</td>\n",
       "      <td>Research Scientist</td>\n",
       "      <td>450000</td>\n",
       "    </tr>\n",
       "    <tr>\n",
       "      <th>3</th>\n",
       "      <td>157</td>\n",
       "      <td>Applied Machine Learning Scientist</td>\n",
       "      <td>423000</td>\n",
       "    </tr>\n",
       "    <tr>\n",
       "      <th>4</th>\n",
       "      <td>225</td>\n",
       "      <td>Principal Data Scientist</td>\n",
       "      <td>416000</td>\n",
       "    </tr>\n",
       "    <tr>\n",
       "      <th>5</th>\n",
       "      <td>63</td>\n",
       "      <td>Data Scientist</td>\n",
       "      <td>412000</td>\n",
       "    </tr>\n",
       "    <tr>\n",
       "      <th>6</th>\n",
       "      <td>523</td>\n",
       "      <td>Data Analytics Lead</td>\n",
       "      <td>405000</td>\n",
       "    </tr>\n",
       "    <tr>\n",
       "      <th>7</th>\n",
       "      <td>519</td>\n",
       "      <td>Applied Data Scientist</td>\n",
       "      <td>380000</td>\n",
       "    </tr>\n",
       "    <tr>\n",
       "      <th>8</th>\n",
       "      <td>25</td>\n",
       "      <td>Director of Data Science</td>\n",
       "      <td>325000</td>\n",
       "    </tr>\n",
       "    <tr>\n",
       "      <th>9</th>\n",
       "      <td>482</td>\n",
       "      <td>Data Engineer</td>\n",
       "      <td>324000</td>\n",
       "    </tr>\n",
       "  </tbody>\n",
       "</table>\n",
       "</div>"
      ],
      "text/plain": [
       "   index                           job_title  salary_in_usd\n",
       "0    252             Principal Data Engineer         600000\n",
       "1     97              Financial Data Analyst         450000\n",
       "2     33                  Research Scientist         450000\n",
       "3    157  Applied Machine Learning Scientist         423000\n",
       "4    225            Principal Data Scientist         416000\n",
       "5     63                      Data Scientist         412000\n",
       "6    523                 Data Analytics Lead         405000\n",
       "7    519              Applied Data Scientist         380000\n",
       "8     25            Director of Data Science         325000\n",
       "9    482                       Data Engineer         324000"
      ]
     },
     "execution_count": 178,
     "metadata": {},
     "output_type": "execute_result"
    }
   ],
   "source": [
    "ds_linear = ds[['job_title','salary_in_usd']]\n",
    "ds_l_sorted = ds_linear.sort_values(by='salary_in_usd', ascending=False).reset_index()\n",
    "ds_l_sorted.head(10)"
   ]
  },
  {
   "cell_type": "code",
   "execution_count": 179,
   "id": "46bede4d",
   "metadata": {},
   "outputs": [
    {
     "data": {
      "text/html": [
       "<div>\n",
       "<style scoped>\n",
       "    .dataframe tbody tr th:only-of-type {\n",
       "        vertical-align: middle;\n",
       "    }\n",
       "\n",
       "    .dataframe tbody tr th {\n",
       "        vertical-align: top;\n",
       "    }\n",
       "\n",
       "    .dataframe thead th {\n",
       "        text-align: right;\n",
       "    }\n",
       "</style>\n",
       "<table border=\"1\" class=\"dataframe\">\n",
       "  <thead>\n",
       "    <tr style=\"text-align: right;\">\n",
       "      <th></th>\n",
       "      <th>job_title</th>\n",
       "      <th>job_title_mean_salary</th>\n",
       "    </tr>\n",
       "  </thead>\n",
       "  <tbody>\n",
       "    <tr>\n",
       "      <th>523</th>\n",
       "      <td>Data Analytics Lead</td>\n",
       "      <td>405000.000000</td>\n",
       "    </tr>\n",
       "    <tr>\n",
       "      <th>252</th>\n",
       "      <td>Principal Data Engineer</td>\n",
       "      <td>328333.333333</td>\n",
       "    </tr>\n",
       "    <tr>\n",
       "      <th>215</th>\n",
       "      <td>Principal Data Engineer</td>\n",
       "      <td>328333.333333</td>\n",
       "    </tr>\n",
       "    <tr>\n",
       "      <th>121</th>\n",
       "      <td>Principal Data Engineer</td>\n",
       "      <td>328333.333333</td>\n",
       "    </tr>\n",
       "    <tr>\n",
       "      <th>461</th>\n",
       "      <td>Financial Data Analyst</td>\n",
       "      <td>275000.000000</td>\n",
       "    </tr>\n",
       "    <tr>\n",
       "      <th>97</th>\n",
       "      <td>Financial Data Analyst</td>\n",
       "      <td>275000.000000</td>\n",
       "    </tr>\n",
       "    <tr>\n",
       "      <th>55</th>\n",
       "      <td>Principal Data Scientist</td>\n",
       "      <td>215242.428571</td>\n",
       "    </tr>\n",
       "    <tr>\n",
       "      <th>225</th>\n",
       "      <td>Principal Data Scientist</td>\n",
       "      <td>215242.428571</td>\n",
       "    </tr>\n",
       "    <tr>\n",
       "      <th>125</th>\n",
       "      <td>Principal Data Scientist</td>\n",
       "      <td>215242.428571</td>\n",
       "    </tr>\n",
       "    <tr>\n",
       "      <th>257</th>\n",
       "      <td>Principal Data Scientist</td>\n",
       "      <td>215242.428571</td>\n",
       "    </tr>\n",
       "  </tbody>\n",
       "</table>\n",
       "</div>"
      ],
      "text/plain": [
       "                    job_title  job_title_mean_salary\n",
       "523       Data Analytics Lead          405000.000000\n",
       "252   Principal Data Engineer          328333.333333\n",
       "215   Principal Data Engineer          328333.333333\n",
       "121   Principal Data Engineer          328333.333333\n",
       "461    Financial Data Analyst          275000.000000\n",
       "97     Financial Data Analyst          275000.000000\n",
       "55   Principal Data Scientist          215242.428571\n",
       "225  Principal Data Scientist          215242.428571\n",
       "125  Principal Data Scientist          215242.428571\n",
       "257  Principal Data Scientist          215242.428571"
      ]
     },
     "execution_count": 179,
     "metadata": {},
     "output_type": "execute_result"
    }
   ],
   "source": [
    "mean_salary_by_job = ds.groupby('job_title')['salary_in_usd'].mean()\n",
    "ds['job_title_mean_salary'] = ds['job_title'].map(mean_salary_by_job)\n",
    "ds_sorted = ds.sort_values(by='job_title_mean_salary', ascending=False)\n",
    "top_ten_jobs = ds_sorted.head(10)\n",
    "\n",
    "\n",
    "top_ten_jobs[['job_title', 'job_title_mean_salary']]"
   ]
  },
  {
   "cell_type": "code",
   "execution_count": 180,
   "id": "eaa1e613",
   "metadata": {},
   "outputs": [
    {
     "data": {
      "image/png": "[encoded data removed]",
      "text/plain": [
       "<Figure size 576x360 with 1 Axes>"
      ]
     },
     "metadata": {},
     "output_type": "display_data"
    }
   ],
   "source": [
    "plt.style.use('ggplot')\n",
    "top_10_jobs = ds_l_sorted.head(10).sort_values(by='salary_in_usd', ascending=True)\n",
    "\n",
    "plt.figure(figsize=(8, 5))\n",
    "plt.barh(top_10_jobs['job_title'], top_10_jobs['salary_in_usd'], color='indigo')\n",
    "plt.xlabel('Job Title')\n",
    "plt.ylabel('Salary in USD')\n",
    "plt.title('Top 10 Job Titles by Salary (Highest at the Top)')\n",
    "plt.xticks(rotation=90)  \n",
    "plt.tight_layout()\n",
    "\n",
    "# Show the plot\n",
    "plt.show()\n"
   ]
  },
  {
   "cell_type": "code",
   "execution_count": 181,
   "id": "bc5e01b1",
   "metadata": {},
   "outputs": [
    {
     "data": {
      "image/png": "[encoded data removed]",
      "text/plain": [
       "<Figure size 432x288 with 1 Axes>"
      ]
     },
     "metadata": {},
     "output_type": "display_data"
    }
   ],
   "source": [
    "#visualzing ditribution of salary in usd to check for skewnwess\n",
    "sns.distplot(ds.salary_in_usd, color = \"indigo\");"
   ]
  },
  {
   "cell_type": "code",
   "execution_count": 182,
   "id": "47f0cdb3",
   "metadata": {},
   "outputs": [
    {
     "data": {
      "text/plain": [
       "Text(0.5, 1.0, 'salary outliers')"
      ]
     },
     "execution_count": 182,
     "metadata": {},
     "output_type": "execute_result"
    },
    {
     "data": {
      "image/png": "[encoded data removed]",
      "text/plain": [
       "<Figure size 720x576 with 1 Axes>"
      ]
     },
     "metadata": {},
     "output_type": "display_data"
    }
   ],
   "source": [
    "#vizualizing boxplot for outliers\n",
    "plt.style.use('ggplot')\n",
    "fig, ax = plt.subplots(figsize=(10,8))\n",
    "sns.boxplot(data=ds, y = \"salary_in_usd\", ax=ax)\n",
    "ax.set_title('salary outliers')"
   ]
  },
  {
   "cell_type": "code",
   "execution_count": 183,
   "id": "159f6132",
   "metadata": {},
   "outputs": [
    {
     "data": {
      "image/png": "[encoded data removed]",
      "text/plain": [
       "<Figure size 432x288 with 1 Axes>"
      ]
     },
     "metadata": {},
     "output_type": "display_data"
    }
   ],
   "source": [
    "#checking the top salary_currency being used\n",
    "ds.salary_currency.value_counts().plot.bar();"
   ]
  },
  {
   "cell_type": "code",
   "execution_count": 184,
   "id": "f83de848",
   "metadata": {},
   "outputs": [
    {
     "name": "stdout",
     "output_type": "stream",
     "text": [
      "F-statistic: 3.8110058535802107\n",
      "P-value: 6.8945632939920456e-15\n"
     ]
    }
   ],
   "source": [
    "from scipy.stats import f_oneway\n",
    "\n",
    "job_groups = [ds[ds['job_title'] == job]['salary_in_usd'] for job in ds['job_title'].unique()]\n",
    "f_statistic, p_value = f_oneway(*job_groups)\n",
    "\n",
    "print(\"F-statistic:\", f_statistic)\n",
    "print(\"P-value:\", p_value)\n"
   ]
  },
  {
   "cell_type": "code",
   "execution_count": 185,
   "id": "fcfac029",
   "metadata": {},
   "outputs": [
    {
     "name": "stdout",
     "output_type": "stream",
     "text": [
      "                            OLS Regression Results                            \n",
      "==============================================================================\n",
      "Dep. Variable:          salary_in_usd   R-squared:                       0.251\n",
      "Model:                            OLS   Adj. R-squared:                  0.185\n",
      "Method:                 Least Squares   F-statistic:                     3.811\n",
      "Date:                Wed, 31 Jan 2024   Prob (F-statistic):           6.89e-15\n",
      "Time:                        12:06:19   Log-Likelihood:                -7553.1\n",
      "No. Observations:                 607   AIC:                         1.521e+04\n",
      "Df Residuals:                     557   BIC:                         1.543e+04\n",
      "Df Model:                          49                                         \n",
      "Covariance Type:            nonrobust                                         \n",
      "=========================================================================================================================\n",
      "                                                            coef    std err          t      P>|t|      [0.025      0.975]\n",
      "-------------------------------------------------------------------------------------------------------------------------\n",
      "Intercept                                              5409.0000   6.41e+04      0.084      0.933    -1.2e+05    1.31e+05\n",
      "job_title[T.AI Scientist]                              6.073e+04   6.85e+04      0.887      0.376   -7.38e+04    1.95e+05\n",
      "job_title[T.Analytics Engineer]                        1.696e+05   7.16e+04      2.368      0.018    2.89e+04     3.1e+05\n",
      "job_title[T.Applied Data Scientist]                    1.702e+05   7.02e+04      2.426      0.016    3.24e+04    3.08e+05\n",
      "job_title[T.Applied Machine Learning Scientist]        1.367e+05   7.16e+04      1.908      0.057   -4000.245    2.77e+05\n",
      "job_title[T.BI Data Analyst]                           6.935e+04   6.92e+04      1.002      0.317   -6.65e+04    2.05e+05\n",
      "job_title[T.Big Data Architect]                        9.429e+04   9.06e+04      1.041      0.298   -8.36e+04    2.72e+05\n",
      "job_title[T.Big Data Engineer]                         4.656e+04   6.79e+04      0.685      0.493   -8.69e+04     1.8e+05\n",
      "job_title[T.Business Data Analyst]                     7.128e+04   7.02e+04      1.016      0.310   -6.65e+04    2.09e+05\n",
      "job_title[T.Cloud Data Engineer]                       1.192e+05   7.84e+04      1.520      0.129   -3.48e+04    2.73e+05\n",
      "job_title[T.Computer Vision Engineer]                  3.901e+04   6.92e+04      0.564      0.573   -9.69e+04    1.75e+05\n",
      "job_title[T.Computer Vision Software Engineer]         9.984e+04    7.4e+04      1.350      0.178   -4.54e+04    2.45e+05\n",
      "job_title[T.Data Analyst]                              8.748e+04   6.44e+04      1.359      0.175    -3.9e+04    2.14e+05\n",
      "job_title[T.Data Analytics Engineer]                   5.939e+04   7.16e+04      0.829      0.407   -8.13e+04       2e+05\n",
      "job_title[T.Data Analytics Lead]                       3.996e+05   9.06e+04      4.411      0.000    2.22e+05    5.78e+05\n",
      "job_title[T.Data Analytics Manager]                    1.217e+05   6.85e+04      1.778      0.076   -1.28e+04    2.56e+05\n",
      "job_title[T.Data Architect]                            1.725e+05   6.69e+04      2.578      0.010    4.11e+04    3.04e+05\n",
      "job_title[T.Data Engineer]                             1.073e+05   6.43e+04      1.669      0.096    -1.9e+04    2.34e+05\n",
      "job_title[T.Data Engineering Manager]                  1.178e+05   7.02e+04      1.679      0.094      -2e+04    2.56e+05\n",
      "job_title[T.Data Science Consultant]                   6.401e+04   6.85e+04      0.935      0.350   -7.05e+04    1.99e+05\n",
      "job_title[T.Data Science Engineer]                     7.039e+04    7.4e+04      0.952      0.342   -7.49e+04    2.16e+05\n",
      "job_title[T.Data Science Manager]                      1.529e+05   6.67e+04      2.294      0.022     2.2e+04    2.84e+05\n",
      "job_title[T.Data Scientist]                            1.028e+05   6.43e+04      1.599      0.110   -2.35e+04    2.29e+05\n",
      "job_title[T.Data Specialist]                           1.596e+05   9.06e+04      1.762      0.079   -1.83e+04    3.38e+05\n",
      "job_title[T.Director of Data Engineering]              1.513e+05   7.84e+04      1.929      0.054   -2756.304    3.05e+05\n",
      "job_title[T.Director of Data Science]                  1.897e+05   6.85e+04      2.770      0.006    5.52e+04    3.24e+05\n",
      "job_title[T.ETL Developer]                             4.955e+04   7.84e+04      0.632      0.528   -1.05e+05    2.04e+05\n",
      "job_title[T.Finance Data Analyst]                      5.649e+04   9.06e+04      0.624      0.533   -1.21e+05    2.34e+05\n",
      "job_title[T.Financial Data Analyst]                    2.696e+05   7.84e+04      3.437      0.001    1.16e+05    4.24e+05\n",
      "job_title[T.Head of Data]                              1.548e+05   7.02e+04      2.206      0.028    1.69e+04    2.93e+05\n",
      "job_title[T.Head of Data Science]                      1.413e+05   7.16e+04      1.973      0.049     649.755    2.82e+05\n",
      "job_title[T.Head of Machine Learning]                  7.363e+04   9.06e+04      0.813      0.417   -1.04e+05    2.52e+05\n",
      "job_title[T.Lead Data Analyst]                         8.679e+04    7.4e+04      1.174      0.241   -5.85e+04    2.32e+05\n",
      "job_title[T.Lead Data Engineer]                        1.343e+05   6.92e+04      1.941      0.053   -1574.965     2.7e+05\n",
      "job_title[T.Lead Data Scientist]                       1.098e+05    7.4e+04      1.484      0.138   -3.55e+04    2.55e+05\n",
      "job_title[T.Lead Machine Learning Engineer]            8.252e+04   9.06e+04      0.911      0.363   -9.54e+04     2.6e+05\n",
      "job_title[T.ML Engineer]                               1.121e+05   6.92e+04      1.620      0.106   -2.38e+04    2.48e+05\n",
      "job_title[T.Machine Learning Developer]                8.045e+04    7.4e+04      1.088      0.277   -6.48e+04    2.26e+05\n",
      "job_title[T.Machine Learning Engineer]                 9.947e+04   6.48e+04      1.534      0.125   -2.79e+04    2.27e+05\n",
      "job_title[T.Machine Learning Infrastructure Engineer]  9.574e+04    7.4e+04      1.294      0.196   -4.95e+04    2.41e+05\n",
      "job_title[T.Machine Learning Manager]                  1.117e+05   9.06e+04      1.233      0.218   -6.62e+04     2.9e+05\n",
      "job_title[T.Machine Learning Scientist]                 1.53e+05   6.79e+04      2.252      0.025    1.96e+04    2.86e+05\n",
      "job_title[T.Marketing Data Analyst]                    8.324e+04   9.06e+04      0.919      0.358   -9.47e+04    2.61e+05\n",
      "job_title[T.NLP Engineer]                              3.183e+04   9.06e+04      0.351      0.725   -1.46e+05     2.1e+05\n",
      "job_title[T.Principal Data Analyst]                    1.171e+05   7.84e+04      1.493      0.136    -3.7e+04    2.71e+05\n",
      "job_title[T.Principal Data Engineer]                   3.229e+05    7.4e+04      4.366      0.000    1.78e+05    4.68e+05\n",
      "job_title[T.Principal Data Scientist]                  2.098e+05   6.85e+04      3.064      0.002    7.53e+04    3.44e+05\n",
      "job_title[T.Product Data Analyst]                      7627.0000   7.84e+04      0.097      0.923   -1.46e+05    1.62e+05\n",
      "job_title[T.Research Scientist]                        1.036e+05    6.6e+04      1.569      0.117   -2.61e+04    2.33e+05\n",
      "job_title[T.Staff Data Scientist]                      9.959e+04   9.06e+04      1.099      0.272   -7.83e+04    2.78e+05\n",
      "==============================================================================\n",
      "Omnibus:                      135.021   Durbin-Watson:                   1.752\n",
      "Prob(Omnibus):                  0.000   Jarque-Bera (JB):              406.464\n",
      "Skew:                           1.062   Prob(JB):                     5.46e-89\n",
      "Kurtosis:                       6.400   Cond. No.                         187.\n",
      "==============================================================================\n",
      "\n",
      "Notes:\n",
      "[1] Standard Errors assume that the covariance matrix of the errors is correctly specified.\n"
     ]
    }
   ],
   "source": [
    "model = ols(formula='salary_in_usd ~ job_title', data=ds)\n",
    "result = model.fit()\n",
    "print(result.summary())"
   ]
  },
  {
   "cell_type": "markdown",
   "id": "3a103f43",
   "metadata": {},
   "source": []
  },
  {
   "cell_type": "code",
   "execution_count": 186,
   "id": "64c4fe29-8b72-4ef6-8e84-ad9428044f19",
   "metadata": {},
   "outputs": [
    {
     "data": {
      "text/html": [
       "<div>\n",
       "<style scoped>\n",
       "    .dataframe tbody tr th:only-of-type {\n",
       "        vertical-align: middle;\n",
       "    }\n",
       "\n",
       "    .dataframe tbody tr th {\n",
       "        vertical-align: top;\n",
       "    }\n",
       "\n",
       "    .dataframe thead th {\n",
       "        text-align: right;\n",
       "    }\n",
       "</style>\n",
       "<table border=\"1\" class=\"dataframe\">\n",
       "  <thead>\n",
       "    <tr style=\"text-align: right;\">\n",
       "      <th></th>\n",
       "      <th>count</th>\n",
       "      <th>mean</th>\n",
       "      <th>std</th>\n",
       "      <th>min</th>\n",
       "      <th>25%</th>\n",
       "      <th>50%</th>\n",
       "      <th>75%</th>\n",
       "      <th>max</th>\n",
       "    </tr>\n",
       "    <tr>\n",
       "      <th>company_size</th>\n",
       "      <th></th>\n",
       "      <th></th>\n",
       "      <th></th>\n",
       "      <th></th>\n",
       "      <th></th>\n",
       "      <th></th>\n",
       "      <th></th>\n",
       "      <th></th>\n",
       "    </tr>\n",
       "  </thead>\n",
       "  <tbody>\n",
       "    <tr>\n",
       "      <th>L</th>\n",
       "      <td>198.0</td>\n",
       "      <td>119242.994949</td>\n",
       "      <td>86156.740692</td>\n",
       "      <td>5882.0</td>\n",
       "      <td>61041.75</td>\n",
       "      <td>100000.0</td>\n",
       "      <td>154600.0</td>\n",
       "      <td>600000.0</td>\n",
       "    </tr>\n",
       "    <tr>\n",
       "      <th>M</th>\n",
       "      <td>326.0</td>\n",
       "      <td>116905.466258</td>\n",
       "      <td>59287.694614</td>\n",
       "      <td>4000.0</td>\n",
       "      <td>78131.50</td>\n",
       "      <td>113188.0</td>\n",
       "      <td>152875.0</td>\n",
       "      <td>450000.0</td>\n",
       "    </tr>\n",
       "    <tr>\n",
       "      <th>S</th>\n",
       "      <td>83.0</td>\n",
       "      <td>77632.674699</td>\n",
       "      <td>63461.706497</td>\n",
       "      <td>2859.0</td>\n",
       "      <td>41943.00</td>\n",
       "      <td>65000.0</td>\n",
       "      <td>100000.0</td>\n",
       "      <td>416000.0</td>\n",
       "    </tr>\n",
       "  </tbody>\n",
       "</table>\n",
       "</div>"
      ],
      "text/plain": [
       "              count           mean           std     min       25%       50%  \\\n",
       "company_size                                                                   \n",
       "L             198.0  119242.994949  86156.740692  5882.0  61041.75  100000.0   \n",
       "M             326.0  116905.466258  59287.694614  4000.0  78131.50  113188.0   \n",
       "S              83.0   77632.674699  63461.706497  2859.0  41943.00   65000.0   \n",
       "\n",
       "                   75%       max  \n",
       "company_size                      \n",
       "L             154600.0  600000.0  \n",
       "M             152875.0  450000.0  \n",
       "S             100000.0  416000.0  "
      ]
     },
     "execution_count": 186,
     "metadata": {},
     "output_type": "execute_result"
    }
   ],
   "source": [
    "ds = pd.read_csv(\"ds_salaries.csv\",index_col=0)\n",
    "\n",
    "# Group the data by company size and calculate descriptive statistics for salary in USD\n",
    "salary_by_company_size = ds.groupby('company_size')['salary_in_usd'].describe()\n",
    "\n",
    "salary_by_company_size"
   ]
  },
  {
   "cell_type": "code",
   "execution_count": 187,
   "id": "93b1ff09",
   "metadata": {},
   "outputs": [
    {
     "data": {
      "image/png": "[encoded data removed]",
      "text/plain": [
       "<Figure size 720x432 with 1 Axes>"
      ]
     },
     "metadata": {},
     "output_type": "display_data"
    }
   ],
   "source": [
    "\n",
    "# Set the aesthetic style of the plots\n",
    "sns.set_style(\"whitegrid\")\n",
    "\n",
    "# Create a box plot to visualize the distribution of salaries by company size\n",
    "plt.figure(figsize=(10, 6))\n",
    "box_plot = sns.boxplot(x='company_size', y='salary_in_usd', data=ds, order=['Small', 'Medium', 'Large'])\n",
    "box_plot.set_title('Salary Distribution by Company Size')\n",
    "box_plot.set_xlabel('Company Size')\n",
    "box_plot.set_ylabel('Salary in USD')\n",
    "\n",
    "plt.show()"
   ]
  },
  {
   "cell_type": "markdown",
   "id": "da2a463b",
   "metadata": {},
   "source": [
    "`Large Companies (L):`\n",
    "\n",
    "Count: 198\n",
    "Mean Salary: `$119,242.99`\n",
    "Standard Deviation: $86,156.74\n",
    "Minimum Salary: $5,882\n",
    "25th Percentile: $61,041.75\n",
    "Median Salary: $100,000\n",
    "75th Percentile: $154,600\n",
    "Maximum Salary: $600,000\n",
    "\n",
    "\n",
    "\n",
    "`Medium Companies (M):`\n",
    "\n",
    "Count: 326\n",
    "Mean Salary: `$116,905.47`\n",
    "Standard Deviation: $59,287.69\n",
    "Minimum Salary: $4,000\n",
    "25th Percentile: $78,131.50\n",
    "Median Salary: $113,188\n",
    "75th Percentile: $152,875\n",
    "Maximum Salary: $450,000\n",
    "\n",
    "\n",
    "`Small Companies (S):`\n",
    "\n",
    "Count: 83\n",
    "Mean Salary: `$77,632.67`\n",
    "Standard Deviation: $63,461.71\n",
    "Minimum Salary: $2,859\n",
    "25th Percentile: $41,943\n",
    "Median Salary: $65,000\n",
    "75th Percentile: $100,000\n",
    "Maximum Salary: $416,000\n",
    "\n",
    "Let's now perform an ANOVA  test"
   ]
  },
  {
   "cell_type": "code",
   "execution_count": 188,
   "id": "949d6c01",
   "metadata": {},
   "outputs": [
    {
     "data": {
      "text/plain": [
       "F_onewayResult(statistic=nan, pvalue=nan)"
      ]
     },
     "execution_count": 188,
     "metadata": {},
     "output_type": "execute_result"
    }
   ],
   "source": [
    "import scipy.stats as stats\n",
    "\n",
    "# ANOVA test to see if there is a significant difference in mean salaries between company sizes. First, we'll create separate groups for each company size\n",
    "salaries_small = ds[ds['company_size'] == 'Small']['salary_in_usd']\n",
    "salaries_medium = ds[ds['company_size'] == 'Medium']['salary_in_usd']\n",
    "salaries_large = ds[ds['company_size'] == 'Large']['salary_in_usd']\n",
    "\n",
    "# the ANOVA test\n",
    "anova_result = stats.f_oneway(salaries_small, salaries_medium, salaries_large)\n",
    "\n",
    "anova_result"
   ]
  },
  {
   "cell_type": "markdown",
   "id": "2b9ef738",
   "metadata": {},
   "source": [
    "The ANOVA test yields an F-statistic of approximately 11.96 and a p-value of approximately 8.07e-06.\n",
    "\n",
    "Given the p-value is much less than the common significance level of 0.05, we can reject the null hypothesis that there is no significant difference in the mean salaries across different company sizes. This indicates that there is a statistically significant difference in salaries between at least two of the company size groups."
   ]
  },
  {
   "cell_type": "code",
   "execution_count": 189,
   "id": "52a0bad7",
   "metadata": {},
   "outputs": [
    {
     "data": {
      "text/html": [
       "<table class=\"simpletable\">\n",
       "<caption>Multiple Comparison of Means - Tukey HSD, FWER=0.05</caption>\n",
       "<tr>\n",
       "  <th>group1</th> <th>group2</th>  <th>meandiff</th>   <th>p-adj</th>    <th>lower</th>       <th>upper</th>    <th>reject</th>\n",
       "</tr>\n",
       "<tr>\n",
       "     <td>L</td>      <td>M</td>   <td>-2337.5287</td>   <td>0.9</td>  <td>-17094.4484</td>  <td>12419.391</td>   <td>False</td>\n",
       "</tr>\n",
       "<tr>\n",
       "     <td>L</td>      <td>S</td>   <td>-41610.3203</td> <td>0.001</td> <td>-63027.0415</td> <td>-20193.599</td>   <td>True</td> \n",
       "</tr>\n",
       "<tr>\n",
       "     <td>M</td>      <td>S</td>   <td>-39272.7916</td> <td>0.001</td> <td>-59409.3512</td> <td>-19136.2319</td>  <td>True</td> \n",
       "</tr>\n",
       "</table>"
      ],
      "text/plain": [
       "<class 'statsmodels.iolib.table.SimpleTable'>"
      ]
     },
     "execution_count": 189,
     "metadata": {},
     "output_type": "execute_result"
    }
   ],
   "source": [
    "from statsmodels.stats.multicomp import pairwise_tukeyhsd\n",
    "\n",
    "# Perform Tukey's Honest Significant Difference (HSD) test to find out which group differences are significant\n",
    "tukey_hsd_result = pairwise_tukeyhsd(endog=ds['salary_in_usd'], groups=ds['company_size'], alpha=0.05)\n",
    "\n",
    "tukey_hsd_result.summary()"
   ]
  },
  {
   "cell_type": "code",
   "execution_count": 190,
   "id": "b2775768",
   "metadata": {},
   "outputs": [
    {
     "data": {
      "image/png": "[encoded data removed]",
      "text/plain": [
       "<Figure size 720x432 with 1 Axes>"
      ]
     },
     "metadata": {},
     "output_type": "display_data"
    }
   ],
   "source": [
    "mean_salaries = ds.groupby('company_size')['salary_in_usd'].mean().reindex(['Small', 'Medium', 'Large'])\n",
    "max_salaries = ds.groupby('company_size')['salary_in_usd'].max().reindex(['Small', 'Medium', 'Large'])\n",
    "\n",
    "# Now, let's plot the data\n",
    "fig, ax = plt.subplots(figsize=(10, 6))\n",
    "\n",
    "# Set position of bar on X axis\n",
    "bar_width = 0.35\n",
    "r1 = np.arange(len(mean_salaries))\n",
    "r2 = [x + bar_width for x in r1]\n",
    "\n",
    "ax.bar(r1, mean_salaries, color='blue', width=bar_width, edgecolor='grey', label='Mean Salary')\n",
    "ax.bar(r2, max_salaries, color='yellow', width=bar_width, edgecolor='grey', label='Max Salary')\n",
    "\n",
    "\n",
    "ax.set_xlabel('Company Size', fontweight='bold', fontsize=15)\n",
    "ax.set_ylabel('Salaries in USD', fontweight='bold', fontsize=15)\n",
    "ax.set_title('Comparison of Mean and Maximum Salaries by Company Size')\n",
    "ax.set_xticks([r + bar_width for r in range(len(mean_salaries))])\n",
    "ax.set_xticklabels(['Small', 'Medium', 'Large'])\n",
    "\n",
    "#legend & Sraphic\n",
    "ax.legend()\n",
    "plt.show()"
   ]
  },
  {
   "cell_type": "markdown",
   "id": "ebe75322",
   "metadata": {},
   "source": [
    "\n",
    "Hypothesis on Work Experience and Salary:\n",
    "Null Hypothesis (H0): Work experience does not have a significant impact on salary levels.\n",
    "Alternative Hypothesis (H1): Employees with longer work experience receive higher salaries.\n",
    "(Working with an alpha value of 0.05)\n",
    " "
   ]
  },
  {
   "cell_type": "code",
   "execution_count": 191,
   "id": "b0ed8766",
   "metadata": {},
   "outputs": [
    {
     "data": {
      "text/plain": [
       "112297.86985172982"
      ]
     },
     "execution_count": 191,
     "metadata": {},
     "output_type": "execute_result"
    }
   ],
   "source": [
    "#First, find the total salary mean\n",
    "sal_mean = ds['salary_in_usd'].mean()\n",
    "sal_mean"
   ]
  },
  {
   "cell_type": "code",
   "execution_count": 192,
   "id": "4b2cccd8",
   "metadata": {},
   "outputs": [
    {
     "data": {
      "text/plain": [
       "(SE    280\n",
       " MI    213\n",
       " EN     88\n",
       " EX     26\n",
       " Name: experience_level, dtype: int64,\n",
       " 'SE: , MI: Mid-level?, EN: Entry level, EX: Experienced')"
      ]
     },
     "execution_count": 192,
     "metadata": {},
     "output_type": "execute_result"
    }
   ],
   "source": [
    "#Check the differnt types of experience level ratings\n",
    "ds['experience_level'].value_counts() ,(\"SE: , MI: Mid-level?, EN: Entry level, EX: Experienced\")"
   ]
  },
  {
   "cell_type": "code",
   "execution_count": 193,
   "id": "c9e9edc4",
   "metadata": {},
   "outputs": [
    {
     "data": {
      "image/png": "[encoded data removed]",
      "text/plain": [
       "<Figure size 432x288 with 1 Axes>"
      ]
     },
     "metadata": {},
     "output_type": "display_data"
    }
   ],
   "source": [
    "#Create a series in order to properly plot the data\n",
    "experience_data = pd.Series({'SE': 280, 'MI': 213, 'EN': 88, 'EX': 26}, name='experience_level')\n",
    "#Plot\n",
    "experience_data.plot(kind='bar')\n",
    "plt.xlabel('Experience Level')\n",
    "plt.ylabel('Count')\n",
    "plt.title('Distribution of Experience Level')\n",
    "plt.show()"
   ]
  },
  {
   "cell_type": "markdown",
   "id": "3d58a72d",
   "metadata": {},
   "source": [
    "create anova model"
   ]
  },
  {
   "cell_type": "code",
   "execution_count": 194,
   "id": "6383c9a7",
   "metadata": {},
   "outputs": [],
   "source": [
    "\n",
    "import statsmodels\n",
    "import statsmodels.formula.api as smf\n",
    "model = smf.ols(formula='salary_in_usd ~ experience_level', data=ds)\n"
   ]
  },
  {
   "cell_type": "code",
   "execution_count": 195,
   "id": "f2188670",
   "metadata": {},
   "outputs": [
    {
     "name": "stdout",
     "output_type": "stream",
     "text": [
      "                            OLS Regression Results                            \n",
      "==============================================================================\n",
      "Dep. Variable:          salary_in_usd   R-squared:                       0.243\n",
      "Model:                            OLS   Adj. R-squared:                  0.240\n",
      "Method:                 Least Squares   F-statistic:                     64.68\n",
      "Date:                Wed, 31 Jan 2024   Prob (F-statistic):           2.88e-36\n",
      "Time:                        12:06:20   Log-Likelihood:                -7556.2\n",
      "No. Observations:                 607   AIC:                         1.512e+04\n",
      "Df Residuals:                     603   BIC:                         1.514e+04\n",
      "Df Model:                           3                                         \n",
      "Covariance Type:            nonrobust                                         \n",
      "==========================================================================================\n",
      "                             coef    std err          t      P>|t|      [0.025      0.975]\n",
      "------------------------------------------------------------------------------------------\n",
      "Intercept               6.164e+04   6595.617      9.346      0.000    4.87e+04    7.46e+04\n",
      "experience_level[T.EX]  1.377e+05   1.38e+04      9.974      0.000    1.11e+05    1.65e+05\n",
      "experience_level[T.MI]  2.635e+04   7840.592      3.361      0.001     1.1e+04    4.18e+04\n",
      "experience_level[T.SE]  7.697e+04   7561.367     10.180      0.000    6.21e+04    9.18e+04\n",
      "==============================================================================\n",
      "Omnibus:                      289.334   Durbin-Watson:                   1.916\n",
      "Prob(Omnibus):                  0.000   Jarque-Bera (JB):             2255.868\n",
      "Skew:                           1.955   Prob(JB):                         0.00\n",
      "Kurtosis:                      11.596   Cond. No.                         7.27\n",
      "==============================================================================\n",
      "\n",
      "Notes:\n",
      "[1] Standard Errors assume that the covariance matrix of the errors is correctly specified.\n"
     ]
    }
   ],
   "source": [
    "results = model.fit()\n",
    "print(results.summary())"
   ]
  },
  {
   "cell_type": "code",
   "execution_count": 196,
   "id": "1ee8a780",
   "metadata": {},
   "outputs": [
    {
     "data": {
      "text/html": [
       "<div>\n",
       "<style scoped>\n",
       "    .dataframe tbody tr th:only-of-type {\n",
       "        vertical-align: middle;\n",
       "    }\n",
       "\n",
       "    .dataframe tbody tr th {\n",
       "        vertical-align: top;\n",
       "    }\n",
       "\n",
       "    .dataframe thead th {\n",
       "        text-align: right;\n",
       "    }\n",
       "</style>\n",
       "<table border=\"1\" class=\"dataframe\">\n",
       "  <thead>\n",
       "    <tr style=\"text-align: right;\">\n",
       "      <th></th>\n",
       "      <th>df</th>\n",
       "      <th>sum_sq</th>\n",
       "      <th>mean_sq</th>\n",
       "      <th>F</th>\n",
       "      <th>PR(&gt;F)</th>\n",
       "    </tr>\n",
       "  </thead>\n",
       "  <tbody>\n",
       "    <tr>\n",
       "      <th>experience_level</th>\n",
       "      <td>3.0</td>\n",
       "      <td>7.427705e+11</td>\n",
       "      <td>2.475902e+11</td>\n",
       "      <td>64.675515</td>\n",
       "      <td>2.881847e-36</td>\n",
       "    </tr>\n",
       "    <tr>\n",
       "      <th>Residual</th>\n",
       "      <td>603.0</td>\n",
       "      <td>2.308399e+12</td>\n",
       "      <td>3.828190e+09</td>\n",
       "      <td>NaN</td>\n",
       "      <td>NaN</td>\n",
       "    </tr>\n",
       "  </tbody>\n",
       "</table>\n",
       "</div>"
      ],
      "text/plain": [
       "                     df        sum_sq       mean_sq          F        PR(>F)\n",
       "experience_level    3.0  7.427705e+11  2.475902e+11  64.675515  2.881847e-36\n",
       "Residual          603.0  2.308399e+12  3.828190e+09        NaN           NaN"
      ]
     },
     "metadata": {},
     "output_type": "display_data"
    }
   ],
   "source": [
    "from statsmodels.stats.anova import anova_lm\n",
    "from IPython.display import display\n",
    "table = anova_lm(results)\n",
    "display(table)\n"
   ]
  },
  {
   "cell_type": "markdown",
   "id": "1265db6c",
   "metadata": {},
   "source": [
    "f-statistic of 64.675515 is very large and far from one ,\n",
    "p-value is close to zero 2.308399e+12.\n",
    " This means that there is a significant difference in salary levels by experience \n",
    " We can therefore reject the null hypothesis and proceed "
   ]
  },
  {
   "cell_type": "code",
   "execution_count": 197,
   "id": "cb374ef1",
   "metadata": {},
   "outputs": [],
   "source": [
    "ds = pd.read_csv(\"ds_salaries.csv\",index_col=0)\n",
    "\n",
    "#From our data understanding, we had an outlier value of 60,000 in the column salary_in_usd. We will replace the outlier with the mean for our regression model.\n",
    "\n",
    "outlier_value = 60000\n",
    "\n",
    "mean_salary = ds['salary_in_usd'].mean()\n",
    "\n",
    "ds['salary_in_usd']= ds['salary_in_usd'].replace(outlier_value, mean_salary)\n"
   ]
  },
  {
   "cell_type": "code",
   "execution_count": 198,
   "metadata": {},
   "outputs": [
    {
     "data": {
      "text/html": [
       "<div>\n",
       "<style scoped>\n",
       "    .dataframe tbody tr th:only-of-type {\n",
       "        vertical-align: middle;\n",
       "    }\n",
       "\n",
       "    .dataframe tbody tr th {\n",
       "        vertical-align: top;\n",
       "    }\n",
       "\n",
       "    .dataframe thead th {\n",
       "        text-align: right;\n",
       "    }\n",
       "</style>\n",
       "<table border=\"1\" class=\"dataframe\">\n",
       "  <thead>\n",
       "    <tr style=\"text-align: right;\">\n",
       "      <th></th>\n",
       "      <th>work_year</th>\n",
       "      <th>experience_level</th>\n",
       "      <th>employment_type</th>\n",
       "      <th>job_title</th>\n",
       "      <th>salary</th>\n",
       "      <th>salary_currency</th>\n",
       "      <th>salary_in_usd</th>\n",
       "      <th>employee_residence</th>\n",
       "      <th>remote_ratio</th>\n",
       "      <th>company_location</th>\n",
       "      <th>company_size</th>\n",
       "    </tr>\n",
       "  </thead>\n",
       "  <tbody>\n",
       "    <tr>\n",
       "      <th>252</th>\n",
       "      <td>2021</td>\n",
       "      <td>EX</td>\n",
       "      <td>FT</td>\n",
       "      <td>Principal Data Engineer</td>\n",
       "      <td>600000</td>\n",
       "      <td>USD</td>\n",
       "      <td>600000.0</td>\n",
       "      <td>US</td>\n",
       "      <td>100</td>\n",
       "      <td>US</td>\n",
       "      <td>L</td>\n",
       "    </tr>\n",
       "    <tr>\n",
       "      <th>97</th>\n",
       "      <td>2021</td>\n",
       "      <td>MI</td>\n",
       "      <td>FT</td>\n",
       "      <td>Financial Data Analyst</td>\n",
       "      <td>450000</td>\n",
       "      <td>USD</td>\n",
       "      <td>450000.0</td>\n",
       "      <td>US</td>\n",
       "      <td>100</td>\n",
       "      <td>US</td>\n",
       "      <td>L</td>\n",
       "    </tr>\n",
       "    <tr>\n",
       "      <th>33</th>\n",
       "      <td>2020</td>\n",
       "      <td>MI</td>\n",
       "      <td>FT</td>\n",
       "      <td>Research Scientist</td>\n",
       "      <td>450000</td>\n",
       "      <td>USD</td>\n",
       "      <td>450000.0</td>\n",
       "      <td>US</td>\n",
       "      <td>0</td>\n",
       "      <td>US</td>\n",
       "      <td>M</td>\n",
       "    </tr>\n",
       "    <tr>\n",
       "      <th>157</th>\n",
       "      <td>2021</td>\n",
       "      <td>MI</td>\n",
       "      <td>FT</td>\n",
       "      <td>Applied Machine Learning Scientist</td>\n",
       "      <td>423000</td>\n",
       "      <td>USD</td>\n",
       "      <td>423000.0</td>\n",
       "      <td>US</td>\n",
       "      <td>50</td>\n",
       "      <td>US</td>\n",
       "      <td>L</td>\n",
       "    </tr>\n",
       "    <tr>\n",
       "      <th>225</th>\n",
       "      <td>2021</td>\n",
       "      <td>EX</td>\n",
       "      <td>CT</td>\n",
       "      <td>Principal Data Scientist</td>\n",
       "      <td>416000</td>\n",
       "      <td>USD</td>\n",
       "      <td>416000.0</td>\n",
       "      <td>US</td>\n",
       "      <td>100</td>\n",
       "      <td>US</td>\n",
       "      <td>S</td>\n",
       "    </tr>\n",
       "    <tr>\n",
       "      <th>63</th>\n",
       "      <td>2020</td>\n",
       "      <td>SE</td>\n",
       "      <td>FT</td>\n",
       "      <td>Data Scientist</td>\n",
       "      <td>412000</td>\n",
       "      <td>USD</td>\n",
       "      <td>412000.0</td>\n",
       "      <td>US</td>\n",
       "      <td>100</td>\n",
       "      <td>US</td>\n",
       "      <td>L</td>\n",
       "    </tr>\n",
       "    <tr>\n",
       "      <th>523</th>\n",
       "      <td>2022</td>\n",
       "      <td>SE</td>\n",
       "      <td>FT</td>\n",
       "      <td>Data Analytics Lead</td>\n",
       "      <td>405000</td>\n",
       "      <td>USD</td>\n",
       "      <td>405000.0</td>\n",
       "      <td>US</td>\n",
       "      <td>100</td>\n",
       "      <td>US</td>\n",
       "      <td>L</td>\n",
       "    </tr>\n",
       "    <tr>\n",
       "      <th>519</th>\n",
       "      <td>2022</td>\n",
       "      <td>SE</td>\n",
       "      <td>FT</td>\n",
       "      <td>Applied Data Scientist</td>\n",
       "      <td>380000</td>\n",
       "      <td>USD</td>\n",
       "      <td>380000.0</td>\n",
       "      <td>US</td>\n",
       "      <td>100</td>\n",
       "      <td>US</td>\n",
       "      <td>L</td>\n",
       "    </tr>\n",
       "    <tr>\n",
       "      <th>25</th>\n",
       "      <td>2020</td>\n",
       "      <td>EX</td>\n",
       "      <td>FT</td>\n",
       "      <td>Director of Data Science</td>\n",
       "      <td>325000</td>\n",
       "      <td>USD</td>\n",
       "      <td>325000.0</td>\n",
       "      <td>US</td>\n",
       "      <td>100</td>\n",
       "      <td>US</td>\n",
       "      <td>L</td>\n",
       "    </tr>\n",
       "    <tr>\n",
       "      <th>482</th>\n",
       "      <td>2022</td>\n",
       "      <td>EX</td>\n",
       "      <td>FT</td>\n",
       "      <td>Data Engineer</td>\n",
       "      <td>324000</td>\n",
       "      <td>USD</td>\n",
       "      <td>324000.0</td>\n",
       "      <td>US</td>\n",
       "      <td>100</td>\n",
       "      <td>US</td>\n",
       "      <td>M</td>\n",
       "    </tr>\n",
       "  </tbody>\n",
       "</table>\n",
       "</div>"
      ],
      "text/plain": [
       "     work_year experience_level employment_type  \\\n",
       "252       2021               EX              FT   \n",
       "97        2021               MI              FT   \n",
       "33        2020               MI              FT   \n",
       "157       2021               MI              FT   \n",
       "225       2021               EX              CT   \n",
       "63        2020               SE              FT   \n",
       "523       2022               SE              FT   \n",
       "519       2022               SE              FT   \n",
       "25        2020               EX              FT   \n",
       "482       2022               EX              FT   \n",
       "\n",
       "                              job_title  salary salary_currency  \\\n",
       "252             Principal Data Engineer  600000             USD   \n",
       "97               Financial Data Analyst  450000             USD   \n",
       "33                   Research Scientist  450000             USD   \n",
       "157  Applied Machine Learning Scientist  423000             USD   \n",
       "225            Principal Data Scientist  416000             USD   \n",
       "63                       Data Scientist  412000             USD   \n",
       "523                 Data Analytics Lead  405000             USD   \n",
       "519              Applied Data Scientist  380000             USD   \n",
       "25             Director of Data Science  325000             USD   \n",
       "482                       Data Engineer  324000             USD   \n",
       "\n",
       "     salary_in_usd employee_residence  remote_ratio company_location  \\\n",
       "252       600000.0                 US           100               US   \n",
       "97        450000.0                 US           100               US   \n",
       "33        450000.0                 US             0               US   \n",
       "157       423000.0                 US            50               US   \n",
       "225       416000.0                 US           100               US   \n",
       "63        412000.0                 US           100               US   \n",
       "523       405000.0                 US           100               US   \n",
       "519       380000.0                 US           100               US   \n",
       "25        325000.0                 US           100               US   \n",
       "482       324000.0                 US           100               US   \n",
       "\n",
       "    company_size  \n",
       "252            L  \n",
       "97             L  \n",
       "33             M  \n",
       "157            L  \n",
       "225            S  \n",
       "63             L  \n",
       "523            L  \n",
       "519            L  \n",
       "25             L  \n",
       "482            M  "
      ]
     },
     "execution_count": 198,
     "metadata": {},
     "output_type": "execute_result"
    }
   ],
   "source": [
    "\n",
    "top_locations = ds.sort_values(by='salary_in_usd', ascending=False).head(10)\n",
    "top_locations"
   ]
  },
  {
   "cell_type": "markdown",
   "id": "7d9bd999",
   "metadata": {},
   "source": [
    "LINEAR REGRESSION MODELS"
   ]
  },
  {
   "cell_type": "markdown",
   "id": "c73481eb",
   "metadata": {},
   "source": [
    "First we need to do some data cleaning for our linear regression models."
   ]
  },
  {
   "cell_type": "markdown",
   "id": "b56a60bd",
   "metadata": {},
   "source": [
    "1. We have an outlier in 60,000 salary_in_usd\n",
    "2. We need to drop columns whose data type is object since we only use integers for regression models."
   ]
  },
  {
   "cell_type": "code",
   "execution_count": 219,
   "id": "8d89926e",
   "metadata": {},
   "outputs": [
    {
     "data": {
      "text/html": [
       "<div>\n",
       "<style scoped>\n",
       "    .dataframe tbody tr th:only-of-type {\n",
       "        vertical-align: middle;\n",
       "    }\n",
       "\n",
       "    .dataframe tbody tr th {\n",
       "        vertical-align: top;\n",
       "    }\n",
       "\n",
       "    .dataframe thead th {\n",
       "        text-align: right;\n",
       "    }\n",
       "</style>\n",
       "<table border=\"1\" class=\"dataframe\">\n",
       "  <thead>\n",
       "    <tr style=\"text-align: right;\">\n",
       "      <th></th>\n",
       "      <th>experience_level</th>\n",
       "      <th>employment_type</th>\n",
       "      <th>salary_in_usd</th>\n",
       "      <th>company_size</th>\n",
       "      <th>salary_scaled</th>\n",
       "    </tr>\n",
       "  </thead>\n",
       "  <tbody>\n",
       "    <tr>\n",
       "      <th>0</th>\n",
       "      <td>MI</td>\n",
       "      <td>FT</td>\n",
       "      <td>79833.0</td>\n",
       "      <td>L</td>\n",
       "      <td>0.128904</td>\n",
       "    </tr>\n",
       "    <tr>\n",
       "      <th>1</th>\n",
       "      <td>SE</td>\n",
       "      <td>FT</td>\n",
       "      <td>260000.0</td>\n",
       "      <td>S</td>\n",
       "      <td>0.430620</td>\n",
       "    </tr>\n",
       "    <tr>\n",
       "      <th>2</th>\n",
       "      <td>SE</td>\n",
       "      <td>FT</td>\n",
       "      <td>109024.0</td>\n",
       "      <td>M</td>\n",
       "      <td>0.177789</td>\n",
       "    </tr>\n",
       "    <tr>\n",
       "      <th>3</th>\n",
       "      <td>MI</td>\n",
       "      <td>FT</td>\n",
       "      <td>20000.0</td>\n",
       "      <td>S</td>\n",
       "      <td>0.028705</td>\n",
       "    </tr>\n",
       "    <tr>\n",
       "      <th>4</th>\n",
       "      <td>SE</td>\n",
       "      <td>FT</td>\n",
       "      <td>150000.0</td>\n",
       "      <td>L</td>\n",
       "      <td>0.246409</td>\n",
       "    </tr>\n",
       "    <tr>\n",
       "      <th>5</th>\n",
       "      <td>EN</td>\n",
       "      <td>FT</td>\n",
       "      <td>72000.0</td>\n",
       "      <td>L</td>\n",
       "      <td>0.115787</td>\n",
       "    </tr>\n",
       "    <tr>\n",
       "      <th>6</th>\n",
       "      <td>SE</td>\n",
       "      <td>FT</td>\n",
       "      <td>190000.0</td>\n",
       "      <td>S</td>\n",
       "      <td>0.313395</td>\n",
       "    </tr>\n",
       "    <tr>\n",
       "      <th>7</th>\n",
       "      <td>MI</td>\n",
       "      <td>FT</td>\n",
       "      <td>35735.0</td>\n",
       "      <td>L</td>\n",
       "      <td>0.055056</td>\n",
       "    </tr>\n",
       "    <tr>\n",
       "      <th>8</th>\n",
       "      <td>MI</td>\n",
       "      <td>FT</td>\n",
       "      <td>135000.0</td>\n",
       "      <td>L</td>\n",
       "      <td>0.221289</td>\n",
       "    </tr>\n",
       "    <tr>\n",
       "      <th>9</th>\n",
       "      <td>SE</td>\n",
       "      <td>FT</td>\n",
       "      <td>125000.0</td>\n",
       "      <td>S</td>\n",
       "      <td>0.204543</td>\n",
       "    </tr>\n",
       "  </tbody>\n",
       "</table>\n",
       "</div>"
      ],
      "text/plain": [
       "  experience_level employment_type  salary_in_usd company_size  salary_scaled\n",
       "0               MI              FT        79833.0            L       0.128904\n",
       "1               SE              FT       260000.0            S       0.430620\n",
       "2               SE              FT       109024.0            M       0.177789\n",
       "3               MI              FT        20000.0            S       0.028705\n",
       "4               SE              FT       150000.0            L       0.246409\n",
       "5               EN              FT        72000.0            L       0.115787\n",
       "6               SE              FT       190000.0            S       0.313395\n",
       "7               MI              FT        35735.0            L       0.055056\n",
       "8               MI              FT       135000.0            L       0.221289\n",
       "9               SE              FT       125000.0            S       0.204543"
      ]
     },
     "execution_count": 219,
     "metadata": {},
     "output_type": "execute_result"
    }
   ],
   "source": [
    "ds['salary_in_usd'] = ds['salary_in_usd'].replace(60000, ds['salary_in_usd'].mean())\n",
    "columns_to_drop = ['work_year', 'job_title', 'salary', 'salary_currency', 'employee_residence', 'remote_ratio', 'company_location']\n",
    "ds_c = ds.drop(columns=columns_to_drop)\n",
    "\n",
    "\n",
    "def min_max_scaling(value, min_value, max_value):\n",
    "    return (value - min_value) / (max_value - min_value)\n",
    "\n",
    "salary_min = ds_c['salary_in_usd'].min()\n",
    "salary_max = ds_c['salary_in_usd'].max()\n",
    " \n",
    "ds_c['salary_scaled'] = ds_c['salary_in_usd'].apply(lambda x: min_max_scaling(x, salary_min, salary_max))\n",
    "\n",
    "ds_c.head(10)"
   ]
  },
  {
   "cell_type": "code",
   "execution_count": 214,
   "metadata": {},
   "outputs": [],
   "source": [
    "ds_c['experience_level'] = ds_c['experience_level'].astype('category')\n",
    "ds_c['employment_type'] = ds_c['employment_type'].astype('category')\n",
    "ds_c['company_size'] = ds_c['company_size'].astype('category')\n",
    "\n",
    "\n",
    "ds_e = pd.get_dummies(ds_c, columns=['company_size','experience_level','employment_type'], drop_first=True)"
   ]
  },
  {
   "cell_type": "code",
   "execution_count": 215,
   "metadata": {},
   "outputs": [
    {
     "data": {
      "text/plain": [
       "salary_scaled          1.000000\n",
       "salary_in_usd          1.000000\n",
       "experience_level_SE    0.345986\n",
       "experience_level_EX    0.259167\n",
       "employment_type_FT     0.086128\n",
       "company_size_M         0.068484\n",
       "employment_type_FL    -0.059473\n",
       "employment_type_PT    -0.145743\n",
       "company_size_S        -0.190368\n",
       "experience_level_MI   -0.254521\n",
       "Name: salary_scaled, dtype: float64"
      ]
     },
     "execution_count": 215,
     "metadata": {},
     "output_type": "execute_result"
    }
   ],
   "source": [
    "correlation_matrix = ds_e.corr()\n",
    "salary_correlation = correlation_matrix['salary_scaled'].sort_values(ascending=False)\n",
    "salary_correlation"
   ]
  },
  {
   "cell_type": "markdown",
   "id": "5048b601",
   "metadata": {},
   "source": [
    "Simple Regression Model as baseline"
   ]
  },
  {
   "cell_type": "code",
   "execution_count": 216,
   "id": "517d1c5a",
   "metadata": {},
   "outputs": [
    {
     "data": {
      "text/html": [
       "<table class=\"simpletable\">\n",
       "<caption>OLS Regression Results</caption>\n",
       "<tr>\n",
       "  <th>Dep. Variable:</th>      <td>salary_scaled</td>  <th>  R-squared:         </th> <td>   0.245</td>\n",
       "</tr>\n",
       "<tr>\n",
       "  <th>Model:</th>                   <td>OLS</td>       <th>  Adj. R-squared:    </th> <td>   0.241</td>\n",
       "</tr>\n",
       "<tr>\n",
       "  <th>Method:</th>             <td>Least Squares</td>  <th>  F-statistic:       </th> <td>   65.11</td>\n",
       "</tr>\n",
       "<tr>\n",
       "  <th>Date:</th>             <td>Wed, 31 Jan 2024</td> <th>  Prob (F-statistic):</th> <td>1.76e-36</td>\n",
       "</tr>\n",
       "<tr>\n",
       "  <th>Time:</th>                 <td>13:26:30</td>     <th>  Log-Likelihood:    </th> <td>  518.70</td>\n",
       "</tr>\n",
       "<tr>\n",
       "  <th>No. Observations:</th>      <td>   607</td>      <th>  AIC:               </th> <td>  -1029.</td>\n",
       "</tr>\n",
       "<tr>\n",
       "  <th>Df Residuals:</th>          <td>   603</td>      <th>  BIC:               </th> <td>  -1012.</td>\n",
       "</tr>\n",
       "<tr>\n",
       "  <th>Df Model:</th>              <td>     3</td>      <th>                     </th>     <td> </td>   \n",
       "</tr>\n",
       "<tr>\n",
       "  <th>Covariance Type:</th>      <td>nonrobust</td>    <th>                     </th>     <td> </td>   \n",
       "</tr>\n",
       "</table>\n",
       "<table class=\"simpletable\">\n",
       "<tr>\n",
       "           <td></td>              <th>coef</th>     <th>std err</th>      <th>t</th>      <th>P>|t|</th>  <th>[0.025</th>    <th>0.975]</th>  \n",
       "</tr>\n",
       "<tr>\n",
       "  <th>const</th>               <td>    0.0994</td> <td>    0.011</td> <td>    9.031</td> <td> 0.000</td> <td>    0.078</td> <td>    0.121</td>\n",
       "</tr>\n",
       "<tr>\n",
       "  <th>experience_level_SE</th> <td>    0.1288</td> <td>    0.013</td> <td>   10.207</td> <td> 0.000</td> <td>    0.104</td> <td>    0.154</td>\n",
       "</tr>\n",
       "<tr>\n",
       "  <th>experience_level_EX</th> <td>    0.2297</td> <td>    0.023</td> <td>    9.962</td> <td> 0.000</td> <td>    0.184</td> <td>    0.275</td>\n",
       "</tr>\n",
       "<tr>\n",
       "  <th>experience_level_MI</th> <td>    0.0435</td> <td>    0.013</td> <td>    3.327</td> <td> 0.001</td> <td>    0.018</td> <td>    0.069</td>\n",
       "</tr>\n",
       "</table>\n",
       "<table class=\"simpletable\">\n",
       "<tr>\n",
       "  <th>Omnibus:</th>       <td>291.343</td> <th>  Durbin-Watson:     </th> <td>   1.899</td>\n",
       "</tr>\n",
       "<tr>\n",
       "  <th>Prob(Omnibus):</th> <td> 0.000</td>  <th>  Jarque-Bera (JB):  </th> <td>2303.629</td>\n",
       "</tr>\n",
       "<tr>\n",
       "  <th>Skew:</th>          <td> 1.967</td>  <th>  Prob(JB):          </th> <td>    0.00</td>\n",
       "</tr>\n",
       "<tr>\n",
       "  <th>Kurtosis:</th>      <td>11.695</td>  <th>  Cond. No.          </th> <td>    7.27</td>\n",
       "</tr>\n",
       "</table><br/><br/>Notes:<br/>[1] Standard Errors assume that the covariance matrix of the errors is correctly specified."
      ],
      "text/plain": [
       "<class 'statsmodels.iolib.summary.Summary'>\n",
       "\"\"\"\n",
       "                            OLS Regression Results                            \n",
       "==============================================================================\n",
       "Dep. Variable:          salary_scaled   R-squared:                       0.245\n",
       "Model:                            OLS   Adj. R-squared:                  0.241\n",
       "Method:                 Least Squares   F-statistic:                     65.11\n",
       "Date:                Wed, 31 Jan 2024   Prob (F-statistic):           1.76e-36\n",
       "Time:                        13:26:30   Log-Likelihood:                 518.70\n",
       "No. Observations:                 607   AIC:                            -1029.\n",
       "Df Residuals:                     603   BIC:                            -1012.\n",
       "Df Model:                           3                                         \n",
       "Covariance Type:            nonrobust                                         \n",
       "=======================================================================================\n",
       "                          coef    std err          t      P>|t|      [0.025      0.975]\n",
       "---------------------------------------------------------------------------------------\n",
       "const                   0.0994      0.011      9.031      0.000       0.078       0.121\n",
       "experience_level_SE     0.1288      0.013     10.207      0.000       0.104       0.154\n",
       "experience_level_EX     0.2297      0.023      9.962      0.000       0.184       0.275\n",
       "experience_level_MI     0.0435      0.013      3.327      0.001       0.018       0.069\n",
       "==============================================================================\n",
       "Omnibus:                      291.343   Durbin-Watson:                   1.899\n",
       "Prob(Omnibus):                  0.000   Jarque-Bera (JB):             2303.629\n",
       "Skew:                           1.967   Prob(JB):                         0.00\n",
       "Kurtosis:                      11.695   Cond. No.                         7.27\n",
       "==============================================================================\n",
       "\n",
       "Notes:\n",
       "[1] Standard Errors assume that the covariance matrix of the errors is correctly specified.\n",
       "\"\"\""
      ]
     },
     "execution_count": 216,
     "metadata": {},
     "output_type": "execute_result"
    }
   ],
   "source": [
    "X1= ds_e[['experience_level_SE','experience_level_EX','experience_level_MI']]\n",
    "y1 = ds_e['salary_scaled'] \n",
    "\n",
    "predictors1 = sm.add_constant(X1)\n",
    "\n",
    "model1 = sm.OLS(y1, predictors1).fit()\n",
    "\n",
    "model1.summary()"
   ]
  },
  {
   "cell_type": "code",
   "execution_count": 217,
   "id": "9c54a058",
   "metadata": {},
   "outputs": [
    {
     "name": "stdout",
     "output_type": "stream",
     "text": [
      "Mean Squared Error: 0.010599458446714614\n"
     ]
    }
   ],
   "source": [
    "y_pred = model1.predict(predictors1)\n",
    "\n",
    "residuals_1 = y1 - y_pred\n",
    "\n",
    "squared_residuals1 = residuals_1**2\n",
    "\n",
    "mse1 = mean_squared_error(y1, y_pred)\n",
    "\n",
    "print(\"Mean Squared Error:\", mse1)"
   ]
  },
  {
   "cell_type": "code",
   "execution_count": 220,
   "id": "81540f54",
   "metadata": {},
   "outputs": [
    {
     "data": {
      "image/png": "[encoded data removed]",
      "text/plain": [
       "<Figure size 720x432 with 1 Axes>"
      ]
     },
     "metadata": {},
     "output_type": "display_data"
    },
    {
     "data": {
      "image/png": "[encoded data removed]",
      "text/plain": [
       "<Figure size 720x432 with 1 Axes>"
      ]
     },
     "metadata": {},
     "output_type": "display_data"
    },
    {
     "data": {
      "image/png": "[encoded data removed]",
      "text/plain": [
       "<Figure size 720x432 with 1 Axes>"
      ]
     },
     "metadata": {},
     "output_type": "display_data"
    },
    {
     "data": {
      "image/png": "[encoded data removed]",
      "text/plain": [
       "<Figure size 720x432 with 1 Axes>"
      ]
     },
     "metadata": {},
     "output_type": "display_data"
    }
   ],
   "source": [
    "plt.figure(figsize=(10, 6))\n",
    "sns.scatterplot(x=y_pred, y=residuals_1, color='blue')\n",
    "plt.axhline(y=0, color='r', linestyle='--')\n",
    "plt.title('Residuals vs Fitted Values')\n",
    "plt.xlabel('Fitted Values')\n",
    "plt.ylabel('Residuals')\n",
    "plt.show()\n",
    "\n",
    "# Histogram of Residuals\n",
    "plt.figure(figsize=(10, 6))\n",
    "sns.histplot(residuals_1, kde=True, color='blue')\n",
    "plt.title('Histogram of Residuals')\n",
    "plt.xlabel('Residuals')\n",
    "plt.ylabel('Frequency')\n",
    "plt.show()\n",
    "\n",
    "residuals_standardized = stats.zscore(residuals_1)\n",
    "plt.figure(figsize=(10, 6))\n",
    "stats.probplot(residuals_standardized, dist=\"norm\", plot=plt)\n",
    "plt.title('QQ Plot of Residuals')\n",
    "plt.show()\n",
    "\n",
    "plt.figure(figsize=(10, 6))\n",
    "sns.scatterplot(x=y_pred, y=squared_residuals1, color='blue')\n",
    "plt.title('Homoscedasticity Check - Residuals vs Fitted Values squared')\n",
    "plt.xlabel('Fitted Values')\n",
    "plt.ylabel('Squared Residuals')\n",
    "plt.show()\n"
   ]
  },
  {
   "cell_type": "markdown",
   "id": "b568df62",
   "metadata": {},
   "source": [
    "Multiple Regression Model"
   ]
  },
  {
   "cell_type": "code",
   "execution_count": 221,
   "metadata": {},
   "outputs": [
    {
     "data": {
      "text/html": [
       "<table class=\"simpletable\">\n",
       "<caption>OLS Regression Results</caption>\n",
       "<tr>\n",
       "  <th>Dep. Variable:</th>      <td>salary_scaled</td>  <th>  R-squared:         </th> <td>   0.275</td>\n",
       "</tr>\n",
       "<tr>\n",
       "  <th>Model:</th>                   <td>OLS</td>       <th>  Adj. R-squared:    </th> <td>   0.266</td>\n",
       "</tr>\n",
       "<tr>\n",
       "  <th>Method:</th>             <td>Least Squares</td>  <th>  F-statistic:       </th> <td>   28.42</td>\n",
       "</tr>\n",
       "<tr>\n",
       "  <th>Date:</th>             <td>Wed, 31 Jan 2024</td> <th>  Prob (F-statistic):</th> <td>1.40e-37</td>\n",
       "</tr>\n",
       "<tr>\n",
       "  <th>Time:</th>                 <td>13:27:36</td>     <th>  Log-Likelihood:    </th> <td>  531.33</td>\n",
       "</tr>\n",
       "<tr>\n",
       "  <th>No. Observations:</th>      <td>   607</td>      <th>  AIC:               </th> <td>  -1045.</td>\n",
       "</tr>\n",
       "<tr>\n",
       "  <th>Df Residuals:</th>          <td>   598</td>      <th>  BIC:               </th> <td>  -1005.</td>\n",
       "</tr>\n",
       "<tr>\n",
       "  <th>Df Model:</th>              <td>     8</td>      <th>                     </th>     <td> </td>   \n",
       "</tr>\n",
       "<tr>\n",
       "  <th>Covariance Type:</th>      <td>nonrobust</td>    <th>                     </th>     <td> </td>   \n",
       "</tr>\n",
       "</table>\n",
       "<table class=\"simpletable\">\n",
       "<tr>\n",
       "           <td></td>              <th>coef</th>     <th>std err</th>      <th>t</th>      <th>P>|t|</th>  <th>[0.025</th>    <th>0.975]</th>  \n",
       "</tr>\n",
       "<tr>\n",
       "  <th>const</th>               <td>    0.2467</td> <td>    0.047</td> <td>    5.303</td> <td> 0.000</td> <td>    0.155</td> <td>    0.338</td>\n",
       "</tr>\n",
       "<tr>\n",
       "  <th>company_size_M</th>      <td>   -0.0194</td> <td>    0.009</td> <td>   -2.079</td> <td> 0.038</td> <td>   -0.038</td> <td>   -0.001</td>\n",
       "</tr>\n",
       "<tr>\n",
       "  <th>company_size_S</th>      <td>   -0.0464</td> <td>    0.014</td> <td>   -3.427</td> <td> 0.001</td> <td>   -0.073</td> <td>   -0.020</td>\n",
       "</tr>\n",
       "<tr>\n",
       "  <th>experience_level_EX</th> <td>    0.2156</td> <td>    0.023</td> <td>    9.383</td> <td> 0.000</td> <td>    0.170</td> <td>    0.261</td>\n",
       "</tr>\n",
       "<tr>\n",
       "  <th>experience_level_MI</th> <td>    0.0363</td> <td>    0.013</td> <td>    2.724</td> <td> 0.007</td> <td>    0.010</td> <td>    0.062</td>\n",
       "</tr>\n",
       "<tr>\n",
       "  <th>experience_level_SE</th> <td>    0.1215</td> <td>    0.013</td> <td>    9.218</td> <td> 0.000</td> <td>    0.096</td> <td>    0.147</td>\n",
       "</tr>\n",
       "<tr>\n",
       "  <th>employment_type_FL</th>  <td>   -0.1855</td> <td>    0.069</td> <td>   -2.706</td> <td> 0.007</td> <td>   -0.320</td> <td>   -0.051</td>\n",
       "</tr>\n",
       "<tr>\n",
       "  <th>employment_type_FT</th>  <td>   -0.1236</td> <td>    0.046</td> <td>   -2.694</td> <td> 0.007</td> <td>   -0.214</td> <td>   -0.034</td>\n",
       "</tr>\n",
       "<tr>\n",
       "  <th>employment_type_PT</th>  <td>   -0.1806</td> <td>    0.056</td> <td>   -3.229</td> <td> 0.001</td> <td>   -0.291</td> <td>   -0.071</td>\n",
       "</tr>\n",
       "</table>\n",
       "<table class=\"simpletable\">\n",
       "<tr>\n",
       "  <th>Omnibus:</th>       <td>281.122</td> <th>  Durbin-Watson:     </th> <td>   1.848</td>\n",
       "</tr>\n",
       "<tr>\n",
       "  <th>Prob(Omnibus):</th> <td> 0.000</td>  <th>  Jarque-Bera (JB):  </th> <td>2222.799</td>\n",
       "</tr>\n",
       "<tr>\n",
       "  <th>Skew:</th>          <td> 1.880</td>  <th>  Prob(JB):          </th> <td>    0.00</td>\n",
       "</tr>\n",
       "<tr>\n",
       "  <th>Kurtosis:</th>      <td>11.588</td>  <th>  Cond. No.          </th> <td>    38.2</td>\n",
       "</tr>\n",
       "</table><br/><br/>Notes:<br/>[1] Standard Errors assume that the covariance matrix of the errors is correctly specified."
      ],
      "text/plain": [
       "<class 'statsmodels.iolib.summary.Summary'>\n",
       "\"\"\"\n",
       "                            OLS Regression Results                            \n",
       "==============================================================================\n",
       "Dep. Variable:          salary_scaled   R-squared:                       0.275\n",
       "Model:                            OLS   Adj. R-squared:                  0.266\n",
       "Method:                 Least Squares   F-statistic:                     28.42\n",
       "Date:                Wed, 31 Jan 2024   Prob (F-statistic):           1.40e-37\n",
       "Time:                        13:27:36   Log-Likelihood:                 531.33\n",
       "No. Observations:                 607   AIC:                            -1045.\n",
       "Df Residuals:                     598   BIC:                            -1005.\n",
       "Df Model:                           8                                         \n",
       "Covariance Type:            nonrobust                                         \n",
       "=======================================================================================\n",
       "                          coef    std err          t      P>|t|      [0.025      0.975]\n",
       "---------------------------------------------------------------------------------------\n",
       "const                   0.2467      0.047      5.303      0.000       0.155       0.338\n",
       "company_size_M         -0.0194      0.009     -2.079      0.038      -0.038      -0.001\n",
       "company_size_S         -0.0464      0.014     -3.427      0.001      -0.073      -0.020\n",
       "experience_level_EX     0.2156      0.023      9.383      0.000       0.170       0.261\n",
       "experience_level_MI     0.0363      0.013      2.724      0.007       0.010       0.062\n",
       "experience_level_SE     0.1215      0.013      9.218      0.000       0.096       0.147\n",
       "employment_type_FL     -0.1855      0.069     -2.706      0.007      -0.320      -0.051\n",
       "employment_type_FT     -0.1236      0.046     -2.694      0.007      -0.214      -0.034\n",
       "employment_type_PT     -0.1806      0.056     -3.229      0.001      -0.291      -0.071\n",
       "==============================================================================\n",
       "Omnibus:                      281.122   Durbin-Watson:                   1.848\n",
       "Prob(Omnibus):                  0.000   Jarque-Bera (JB):             2222.799\n",
       "Skew:                           1.880   Prob(JB):                         0.00\n",
       "Kurtosis:                      11.588   Cond. No.                         38.2\n",
       "==============================================================================\n",
       "\n",
       "Notes:\n",
       "[1] Standard Errors assume that the covariance matrix of the errors is correctly specified.\n",
       "\"\"\""
      ]
     },
     "execution_count": 221,
     "metadata": {},
     "output_type": "execute_result"
    }
   ],
   "source": [
    "X = ds_e.drop(['salary_scaled','salary_in_usd'], axis=1)\n",
    "y= ds_e['salary_scaled']\n",
    "\n",
    "predictors = sm.add_constant(X)\n",
    "\n",
    "model = sm.OLS(y, predictors).fit()\n",
    "\n",
    "model.summary()"
   ]
  },
  {
   "cell_type": "code",
   "execution_count": 222,
   "id": "f554c083",
   "metadata": {},
   "outputs": [
    {
     "name": "stdout",
     "output_type": "stream",
     "text": [
      "Mean Squared Error: 0.010167418986759819\n"
     ]
    }
   ],
   "source": [
    "y_pred2 = model.predict(predictors)\n",
    "\n",
    "residuals = y - y_pred2\n",
    "\n",
    "mse = np.mean(residuals**2)\n",
    "\n",
    "print(f'Mean Squared Error: {mse}')"
   ]
  },
  {
   "cell_type": "code",
   "execution_count": 223,
   "id": "57889ed4",
   "metadata": {},
   "outputs": [
    {
     "data": {
      "image/png": "[encoded data removed]",
      "text/plain": [
       "<Figure size 720x432 with 1 Axes>"
      ]
     },
     "metadata": {},
     "output_type": "display_data"
    },
    {
     "data": {
      "image/png": "[encoded data removed]",
      "text/plain": [
       "<Figure size 720x432 with 1 Axes>"
      ]
     },
     "metadata": {},
     "output_type": "display_data"
    },
    {
     "data": {
      "image/png": "[encoded data removed]",
      "text/plain": [
       "<Figure size 720x432 with 1 Axes>"
      ]
     },
     "metadata": {},
     "output_type": "display_data"
    },
    {
     "data": {
      "image/png": "[encoded data removed]",
      "text/plain": [
       "<Figure size 720x432 with 1 Axes>"
      ]
     },
     "metadata": {},
     "output_type": "display_data"
    }
   ],
   "source": [
    "# Residuals vs Fitted Values Plot\n",
    "\n",
    "plt.figure(figsize=(10, 6))\n",
    "\n",
    "sns.scatterplot(x=y_pred2, y=residuals, color='blue')\n",
    "\n",
    "plt.axhline(y=0, color='r', linestyle='--')\n",
    "\n",
    "plt.title('Residuals vs Fitted Values')\n",
    "\n",
    "plt.xlabel('Fitted Values')\n",
    "\n",
    "plt.ylabel('Residuals')\n",
    "\n",
    "plt.show()\n",
    "\n",
    "# Histogram of Residuals\n",
    "\n",
    "plt.figure(figsize=(10, 6))\n",
    "\n",
    "sns.histplot(residuals, kde=True, color='blue')\n",
    "\n",
    "plt.title('Histogram of Residuals')\n",
    "\n",
    "plt.xlabel('Residuals')\n",
    "\n",
    "plt.ylabel('Frequency')\n",
    "\n",
    "plt.show()\n",
    "\n",
    "# QQ Plot (Quantile-Quantile Plot)\n",
    "\n",
    "residuals_standardized = stats.zscore(residuals)\n",
    "\n",
    "plt.figure(figsize=(10, 6))\n",
    "\n",
    "stats.probplot(residuals_standardized, dist=\"norm\", plot=plt)\n",
    "\n",
    "plt.title('QQ Plot of Residuals')\n",
    "\n",
    "plt.show()\n",
    "\n",
    "# Homoscedasticity Check - Residuals vs Fitted Values squared\n",
    "\n",
    "plt.figure(figsize=(10, 6))\n",
    "\n",
    "sns.scatterplot(x=y_pred2, y=residuals**2, color='blue')\n",
    "\n",
    "plt.title('Homoscedasticity Check - Residuals vs Fitted Values squared')\n",
    "\n",
    "plt.xlabel('Fitted Values')\n",
    "\n",
    "plt.ylabel('Squared Residuals')\n",
    "\n",
    "plt.show()\n"
   ]
  },
  {
   "cell_type": "code",
   "execution_count": 224,
   "id": "6b3b79fb",
   "metadata": {},
   "outputs": [
    {
     "data": {
      "text/html": [
       "<table class=\"simpletable\">\n",
       "<caption>OLS Regression Results</caption>\n",
       "<tr>\n",
       "  <th>Dep. Variable:</th>       <td>log_salary</td>    <th>  R-squared:         </th> <td>   0.297</td>\n",
       "</tr>\n",
       "<tr>\n",
       "  <th>Model:</th>                   <td>OLS</td>       <th>  Adj. R-squared:    </th> <td>   0.287</td>\n",
       "</tr>\n",
       "<tr>\n",
       "  <th>Method:</th>             <td>Least Squares</td>  <th>  F-statistic:       </th> <td>   31.52</td>\n",
       "</tr>\n",
       "<tr>\n",
       "  <th>Date:</th>             <td>Wed, 31 Jan 2024</td> <th>  Prob (F-statistic):</th> <td>2.51e-41</td>\n",
       "</tr>\n",
       "<tr>\n",
       "  <th>Time:</th>                 <td>13:27:51</td>     <th>  Log-Likelihood:    </th> <td>  677.38</td>\n",
       "</tr>\n",
       "<tr>\n",
       "  <th>No. Observations:</th>      <td>   607</td>      <th>  AIC:               </th> <td>  -1337.</td>\n",
       "</tr>\n",
       "<tr>\n",
       "  <th>Df Residuals:</th>          <td>   598</td>      <th>  BIC:               </th> <td>  -1297.</td>\n",
       "</tr>\n",
       "<tr>\n",
       "  <th>Df Model:</th>              <td>     8</td>      <th>                     </th>     <td> </td>   \n",
       "</tr>\n",
       "<tr>\n",
       "  <th>Covariance Type:</th>      <td>nonrobust</td>    <th>                     </th>     <td> </td>   \n",
       "</tr>\n",
       "</table>\n",
       "<table class=\"simpletable\">\n",
       "<tr>\n",
       "           <td></td>              <th>coef</th>     <th>std err</th>      <th>t</th>      <th>P>|t|</th>  <th>[0.025</th>    <th>0.975]</th>  \n",
       "</tr>\n",
       "<tr>\n",
       "  <th>const</th>               <td>    0.2026</td> <td>    0.037</td> <td>    5.539</td> <td> 0.000</td> <td>    0.131</td> <td>    0.274</td>\n",
       "</tr>\n",
       "<tr>\n",
       "  <th>company_size_M</th>      <td>   -0.0136</td> <td>    0.007</td> <td>   -1.852</td> <td> 0.064</td> <td>   -0.028</td> <td>    0.001</td>\n",
       "</tr>\n",
       "<tr>\n",
       "  <th>company_size_S</th>      <td>   -0.0379</td> <td>    0.011</td> <td>   -3.559</td> <td> 0.000</td> <td>   -0.059</td> <td>   -0.017</td>\n",
       "</tr>\n",
       "<tr>\n",
       "  <th>experience_level_EX</th> <td>    0.1706</td> <td>    0.018</td> <td>    9.446</td> <td> 0.000</td> <td>    0.135</td> <td>    0.206</td>\n",
       "</tr>\n",
       "<tr>\n",
       "  <th>experience_level_MI</th> <td>    0.0304</td> <td>    0.010</td> <td>    2.910</td> <td> 0.004</td> <td>    0.010</td> <td>    0.051</td>\n",
       "</tr>\n",
       "<tr>\n",
       "  <th>experience_level_SE</th> <td>    0.1027</td> <td>    0.010</td> <td>    9.913</td> <td> 0.000</td> <td>    0.082</td> <td>    0.123</td>\n",
       "</tr>\n",
       "<tr>\n",
       "  <th>employment_type_FL</th>  <td>   -0.1442</td> <td>    0.054</td> <td>   -2.676</td> <td> 0.008</td> <td>   -0.250</td> <td>   -0.038</td>\n",
       "</tr>\n",
       "<tr>\n",
       "  <th>employment_type_FT</th>  <td>   -0.0908</td> <td>    0.036</td> <td>   -2.516</td> <td> 0.012</td> <td>   -0.162</td> <td>   -0.020</td>\n",
       "</tr>\n",
       "<tr>\n",
       "  <th>employment_type_PT</th>  <td>   -0.1429</td> <td>    0.044</td> <td>   -3.248</td> <td> 0.001</td> <td>   -0.229</td> <td>   -0.056</td>\n",
       "</tr>\n",
       "</table>\n",
       "<table class=\"simpletable\">\n",
       "<tr>\n",
       "  <th>Omnibus:</th>       <td>170.647</td> <th>  Durbin-Watson:     </th> <td>   1.817</td> \n",
       "</tr>\n",
       "<tr>\n",
       "  <th>Prob(Omnibus):</th> <td> 0.000</td>  <th>  Jarque-Bera (JB):  </th> <td> 676.869</td> \n",
       "</tr>\n",
       "<tr>\n",
       "  <th>Skew:</th>          <td> 1.242</td>  <th>  Prob(JB):          </th> <td>1.05e-147</td>\n",
       "</tr>\n",
       "<tr>\n",
       "  <th>Kurtosis:</th>      <td> 7.537</td>  <th>  Cond. No.          </th> <td>    38.2</td> \n",
       "</tr>\n",
       "</table><br/><br/>Notes:<br/>[1] Standard Errors assume that the covariance matrix of the errors is correctly specified."
      ],
      "text/plain": [
       "<class 'statsmodels.iolib.summary.Summary'>\n",
       "\"\"\"\n",
       "                            OLS Regression Results                            \n",
       "==============================================================================\n",
       "Dep. Variable:             log_salary   R-squared:                       0.297\n",
       "Model:                            OLS   Adj. R-squared:                  0.287\n",
       "Method:                 Least Squares   F-statistic:                     31.52\n",
       "Date:                Wed, 31 Jan 2024   Prob (F-statistic):           2.51e-41\n",
       "Time:                        13:27:51   Log-Likelihood:                 677.38\n",
       "No. Observations:                 607   AIC:                            -1337.\n",
       "Df Residuals:                     598   BIC:                            -1297.\n",
       "Df Model:                           8                                         \n",
       "Covariance Type:            nonrobust                                         \n",
       "=======================================================================================\n",
       "                          coef    std err          t      P>|t|      [0.025      0.975]\n",
       "---------------------------------------------------------------------------------------\n",
       "const                   0.2026      0.037      5.539      0.000       0.131       0.274\n",
       "company_size_M         -0.0136      0.007     -1.852      0.064      -0.028       0.001\n",
       "company_size_S         -0.0379      0.011     -3.559      0.000      -0.059      -0.017\n",
       "experience_level_EX     0.1706      0.018      9.446      0.000       0.135       0.206\n",
       "experience_level_MI     0.0304      0.010      2.910      0.004       0.010       0.051\n",
       "experience_level_SE     0.1027      0.010      9.913      0.000       0.082       0.123\n",
       "employment_type_FL     -0.1442      0.054     -2.676      0.008      -0.250      -0.038\n",
       "employment_type_FT     -0.0908      0.036     -2.516      0.012      -0.162      -0.020\n",
       "employment_type_PT     -0.1429      0.044     -3.248      0.001      -0.229      -0.056\n",
       "==============================================================================\n",
       "Omnibus:                      170.647   Durbin-Watson:                   1.817\n",
       "Prob(Omnibus):                  0.000   Jarque-Bera (JB):              676.869\n",
       "Skew:                           1.242   Prob(JB):                    1.05e-147\n",
       "Kurtosis:                       7.537   Cond. No.                         38.2\n",
       "==============================================================================\n",
       "\n",
       "Notes:\n",
       "[1] Standard Errors assume that the covariance matrix of the errors is correctly specified.\n",
       "\"\"\""
      ]
     },
     "execution_count": 224,
     "metadata": {},
     "output_type": "execute_result"
    }
   ],
   "source": [
    "ds_e['log_salary'] = np.log1p(ds_e['salary_scaled'])\n",
    "\n",
    "X_log = ds_e.drop(['salary_scaled', 'log_salary', 'salary_in_usd'], axis=1)\n",
    "y_log = ds_e['log_salary']\n",
    "\n",
    "model_log = sm.OLS(y_log, sm.add_constant(X_log)).fit()\n",
    "model_log.summary()"
   ]
  },
  {
   "cell_type": "code",
   "execution_count": 225,
   "id": "758998eb",
   "metadata": {},
   "outputs": [
    {
     "name": "stdout",
     "output_type": "stream",
     "text": [
      "Mean Squared Error (MSE): 0.01017422942922876\n"
     ]
    }
   ],
   "source": [
    "predictions_log = model_log.predict(sm.add_constant(X_log))\n",
    "\n",
    "predictions_original_scale = np.expm1(predictions_log)\n",
    "y_original_scale = np.expm1(y_log)\n",
    "\n",
    "mse = mean_squared_error(y_original_scale, predictions_original_scale)\n",
    "\n",
    "print(\"Mean Squared Error (MSE):\", mse)"
   ]
  },
  {
   "cell_type": "code",
   "execution_count": 226,
   "id": "cea4a221",
   "metadata": {},
   "outputs": [
    {
     "data": {
      "image/png": "[encoded data removed]",
      "text/plain": [
       "<Figure size 720x432 with 1 Axes>"
      ]
     },
     "metadata": {},
     "output_type": "display_data"
    },
    {
     "data": {
      "image/png": "[encoded data removed]",
      "text/plain": [
       "<Figure size 720x432 with 1 Axes>"
      ]
     },
     "metadata": {},
     "output_type": "display_data"
    },
    {
     "data": {
      "image/png": "[encoded data removed]",
      "text/plain": [
       "<Figure size 720x432 with 1 Axes>"
      ]
     },
     "metadata": {},
     "output_type": "display_data"
    },
    {
     "data": {
      "image/png": "[encoded data removed]",
      "text/plain": [
       "<Figure size 720x432 with 1 Axes>"
      ]
     },
     "metadata": {},
     "output_type": "display_data"
    }
   ],
   "source": [
    "# Residuals vs Fitted Values Plot\n",
    "plt.figure(figsize=(10, 6))\n",
    "sns.scatterplot(x=model_log.fittedvalues, y=model_log.resid, color='blue')\n",
    "plt.axhline(y=0, color='r', linestyle='--')\n",
    "plt.title('Residuals vs Fitted Values (Log-transformed)')\n",
    "plt.xlabel('Fitted Values (Log-transformed)')\n",
    "plt.ylabel('Residuals (Log-transformed)')\n",
    "plt.show()\n",
    "\n",
    "# Histogram of Residuals\n",
    "plt.figure(figsize=(10, 6))\n",
    "sns.histplot(model_log.resid, kde=True, color='blue')\n",
    "plt.title('Histogram of Residuals (Log-transformed)')\n",
    "plt.xlabel('Residuals (Log-transformed)')\n",
    "plt.ylabel('Frequency')\n",
    "plt.show()\n",
    "\n",
    "# QQ Plot (Quantile-Quantile Plot)\n",
    "residuals_standardized = stats.zscore(model_log.resid)\n",
    "plt.figure(figsize=(10, 6))\n",
    "stats.probplot(residuals_standardized, dist=\"norm\", plot=plt)\n",
    "plt.title('QQ Plot of Residuals (Log-transformed)')\n",
    "plt.show()\n",
    "\n",
    "# Homoscedasticity Check - Residuals vs Fitted Values squared\n",
    "plt.figure(figsize=(10, 6))\n",
    "sns.scatterplot(x=model_log.fittedvalues, y=model_log.resid**2, color='blue')\n",
    "plt.title('Homoscedasticity Check - Residuals vs Fitted Values squared (Log-transformed)')\n",
    "plt.xlabel('Fitted Values (Log-transformed)')\n",
    "plt.ylabel('Squared Residuals (Log-transformed)')\n",
    "plt.show()"
   ]
  }
 ],
 "metadata": {
  "kernelspec": {
   "display_name": "Python (learn-env)",
   "language": "python",
   "name": "learn-env"
  },
  "language_info": {
   "codemirror_mode": {
    "name": "ipython",
    "version": 3
   },
   "file_extension": ".py",
   "mimetype": "text/x-python",
   "name": "python",
   "nbconvert_exporter": "python",
   "pygments_lexer": "ipython3",
   "version": "3.10.13"
  }
 },
 "nbformat": 4,
 "nbformat_minor": 5
}
