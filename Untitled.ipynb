{
 "cells": [
  {
   "cell_type": "markdown",
   "id": "4e600e06-db49-429e-8b3f-a5ebae8c18d9",
   "metadata": {},
   "source": [
    "#### Final Project Submission\n",
    "##### GROUP 4:\n",
    "\n",
    "Student name: Margaret Thiga,\n",
    "              Pete Njagi,\n",
    "              Jeremy Ngugi,\n",
    "              Esther Omulokoli,\n",
    "              James Koli,\n",
    "              Edgar Kiprono\n",
    "\n",
    "Student pace: DS-full time-Online\n",
    "\n",
    "Scheduled project review date/time: 1/2/2024\n",
    "\n",
    "Instructor name:\n",
    "\n",
    "Blog post URL:"
   ]
  },
  {
   "cell_type": "code",
   "execution_count": null,
   "id": "4f5010d0-19fc-4f28-a75e-9854241f8cd5",
   "metadata": {},
   "outputs": [],
   "source": [
    "# importing the relevant libraries\n",
    "import pandas as pd\n",
    "import numpy as np\n",
    "import math\n",
    "import matplotlib.pyplot as plt\n",
    "%matplotlib inline\n",
    "import seaborn as sns\n",
    "import scipy.stats as stats\n",
    "import statsmodels\n",
    "from statsmodels.formula.api import ols\n",
    "import statsmodels.api as sm\n",
    "from sklearn.linear_model import LinearRegression\n",
    "from sklearn.metrics import mean_absolute_error, mean_squared_error\n",
    "from sklearn.preprocessing import OrdinalEncoder\n",
    "from sklearn.preprocessing import OneHotEncoder\n",
    "import statsmodels.api as sm\n",
    "from sklearn.preprocessing import StandardScaler\n",
    "import warnings\n",
    "from matplotlib.lines import Line2D\n",
    "warnings.filterwarnings('ignore')"
   ]
  },
  {
   "cell_type": "code",
   "execution_count": null,
   "id": "bde6e363",
   "metadata": {},
   "outputs": [],
   "source": [
    "ds = pd.read_csv(\"ds_salaries.csv\",index_col=0)\n",
    "ds"
   ]
  },
  {
   "cell_type": "code",
   "execution_count": null,
   "id": "6f59d17c-017e-4739-8879-d2f9c69fc268",
   "metadata": {},
   "outputs": [],
   "source": [
    "ds.shape"
   ]
  },
  {
   "cell_type": "code",
   "execution_count": null,
   "id": "c35014da-7156-469c-b1d7-7fbac5105f72",
   "metadata": {},
   "outputs": [],
   "source": [
    "ds.isnull().sum()  "
   ]
  },
  {
   "cell_type": "code",
   "execution_count": null,
   "id": "4ed1d9a0-d8ad-4f8e-81e5-def35fd48b15",
   "metadata": {},
   "outputs": [],
   "source": [
    "#check for data type\n",
    "ds.info() "
   ]
  },
  {
   "cell_type": "code",
   "execution_count": null,
   "id": "95ba921a-5488-40e4-b515-a2939b8fa3e4",
   "metadata": {},
   "outputs": [],
   "source": [
    "#check for different values in the columns and count of unique\n",
    "print(f\"experience-level: {ds['experience_level'].unique()},\\\n",
    "Unique levels: {ds['experience_level'].nunique()}\")\n",
    "\n",
    "print(f\"Job type: {ds['employment_type'].unique()},\\\n",
    "Unique job types: {ds['employment_type'].nunique()}\")\n",
    "\n",
    "\n",
    "print(f\"Salary Currency: {ds['salary_currency'].unique()},\\\n",
    "Unique currencies: {ds['salary_currency'].nunique()}\")\n",
    "\n",
    "\n",
    "print(f\"Country of residence: {ds['employee_residence'].unique()},\\\n",
    "Unique countries: {ds['employee_residence'].nunique()}\")"
   ]
  },
  {
   "cell_type": "code",
   "execution_count": null,
   "id": "96c98d14-ad90-412b-a96c-ddaf46da31bf",
   "metadata": {},
   "outputs": [],
   "source": [
    "a = ds.describe().astype(int) \n",
    "a"
   ]
  },
  {
   "cell_type": "code",
   "execution_count": null,
   "id": "e66dacf9-cda1-4bf2-8d0c-4e160d57e770",
   "metadata": {},
   "outputs": [],
   "source": [
    "plt.style.use('ggplot')\n",
    "fig,ax=plt.subplots(figsize=(10,6))\n",
    "a['salary_in_usd'].plot.hist(ax = ax, edgecolor='red',color='red')\n",
    "ax.set_title('Salary distribution')\n",
    "ax.set_xlabel(\"Salary\")\n",
    "plt.show();"
   ]
  },
  {
   "cell_type": "code",
   "execution_count": null,
   "id": "629b2562-84c7-430d-acd6-be3a80c2aec9",
   "metadata": {},
   "outputs": [],
   "source": [
    "#salary_currency\n",
    "ds.salary_currency.value_counts().plot.bar();"
   ]
  },
  {
   "cell_type": "code",
   "execution_count": null,
   "id": "80393e01-32bd-4d4a-b3e4-6f08f26eebfb",
   "metadata": {},
   "outputs": [],
   "source": [
    "sns.distplot(ds.salary_in_usd);"
   ]
  },
  {
   "cell_type": "code",
   "execution_count": null,
   "id": "30a55a1f-3966-4143-9b72-7f6eb1ccff93",
   "metadata": {},
   "outputs": [],
   "source": [
    "unique_job_titles_df = ds['job_title'].value_counts().reset_index()\n",
    "unique_job_titles_df.columns = ['Job_Title', 'Count']\n",
    "unique_job_titles_df.head(11)"
   ]
  },
  {
   "cell_type": "code",
   "execution_count": null,
   "id": "e52fa749-fda6-4a88-9f09-ad0156ba8510",
   "metadata": {},
   "outputs": [],
   "source": [
    "ds_linear = ds[['job_title','salary_in_usd']]\n",
    "ds_l_sorted = ds_linear.sort_values(by='salary_in_usd', ascending=False).reset_index()\n",
    "\n",
    "# Display the sorted DataFrame\n",
    "ds_l_sorted"
   ]
  },
  {
   "cell_type": "code",
   "execution_count": null,
   "id": "ddf5db3e-c684-4d07-80f9-be8496768a9e",
   "metadata": {},
   "outputs": [],
   "source": [
    "fig, ax = plt.subplots(figsize=(10,8))\n",
    "sns.boxplot(data=ds, y = \"salary_in_usd\", ax=ax)\n",
    "ax.set_title('salary')"
   ]
  },
  {
   "cell_type": "code",
   "execution_count": null,
   "id": "2c5447d2-1081-4c9d-b3fd-35102c47656a",
   "metadata": {},
   "outputs": [],
   "source": [
    "salary= ds['salary_in_usd'].describe()\n",
    "salary"
   ]
  },
  {
   "cell_type": "code",
   "execution_count": null,
   "id": "233a57ca-5510-4fb4-b127-cc67b85181ee",
   "metadata": {},
   "outputs": [],
   "source": [
    "plt.figure(figsize=(15,8))\n",
    "sns.heatmap(a.drop('remote_ratio',axis=1).corr(), annot=True, cmap = 'YlGnBu');\n",
    "plt.show()"
   ]
  },
  {
   "cell_type": "code",
   "execution_count": null,
   "id": "e3e7dd38-b720-4057-8040-024ffc7f9cfb",
   "metadata": {},
   "outputs": [],
   "source": [
    "# Define independent variables (X) and dependent variable (y)\n",
    "X = ds[['salary_in_usd']] \n",
    "y = ds['salary']\n",
    "\n",
    "# Add a constant term to the independent variables\n",
    "X = sm.add_constant(X)\n",
    "\n",
    "# Fit the linear regression model\n",
    "model = sm.OLS(y, X).fit()\n",
    "\n",
    "# Display the model summary\n",
    "print(model.summary())"
   ]
  },
  {
   "cell_type": "markdown",
   "id": "58501c6d",
   "metadata": {},
   "source": [
    "employment type analysis"
   ]
  },
  {
   "cell_type": "code",
   "execution_count": 29,
   "id": "64c4fe29-8b72-4ef6-8e84-ad9428044f19",
   "metadata": {},
   "outputs": [
    {
     "data": {
      "text/plain": [
       "employment_type\n",
       "FT    588\n",
       "PT     10\n",
       "CT      5\n",
       "FL      4\n",
       "Name: count, dtype: int64"
      ]
     },
     "execution_count": 29,
     "metadata": {},
     "output_type": "execute_result"
    }
   ],
   "source": [
    "# value canout\n",
    "employment_type_counts = ds['employment_type'].value_counts()\n",
    "employment_type_counts"
   ]
  },
  {
   "cell_type": "code",
   "execution_count": null,
   "id": "15a6670a",
   "metadata": {},
   "outputs": [],
   "source": [
    "employment_type_summary = ds.groupby('employment_type')['salary_in_usd'].describe()\n",
    "employment_type_summary"
   ]
  },
  {
   "cell_type": "code",
   "execution_count": null,
   "id": "78b6866c",
   "metadata": {},
   "outputs": [],
   "source": [
    "# avarage salary of employees with diffrent employment types (eg: CT,FT AND PT)\n",
    "average_salary_by_employment_type = ds.groupby('employment_type')['salary_in_usd'].mean()\n",
    "average_salary_by_employment_type"
   ]
  },
  {
   "cell_type": "code",
   "execution_count": null,
   "id": "c1a0b4c9",
   "metadata": {},
   "outputs": [],
   "source": [
    "highest_salary_by_employment_type = ds.groupby('employment_type')['salary_in_usd'].max()\n",
    "highest_salary_by_employment_type"
   ]
  },
  {
   "cell_type": "code",
   "execution_count": null,
   "id": "4f479a98",
   "metadata": {},
   "outputs": [],
   "source": [
    "lowest_salary_by_employment_type = ds.groupby('employment_type')['salary_in_usd'].min()\n",
    "lowest_salary_by_employment_type"
   ]
  }
 ],
 "metadata": {
  "kernelspec": {
   "display_name": "learn-env",
   "language": "python",
   "name": "python3"
  },
  "language_info": {
   "codemirror_mode": {
    "name": "ipython",
    "version": 3
   },
   "file_extension": ".py",
   "mimetype": "text/x-python",
   "name": "python",
   "nbconvert_exporter": "python",
   "pygments_lexer": "ipython3",
   "version": "3.10.13"
  }
 },
 "nbformat": 4,
 "nbformat_minor": 5
}
